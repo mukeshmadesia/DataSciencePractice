{
 "cells": [
  {
   "cell_type": "markdown",
   "id": "0ac45ad9",
   "metadata": {},
   "source": [
    "## Demo of usage of Model deployed on Azure Cloud\n",
    "\n",
    "1. Created a Predictive Model using automated ML on Azure.\n",
    "2. Deployed it using container service on Azure\n",
    "3. Below is the demo piece of code for Consuming the Model as an API\n",
    "4. At end added Swagger Document link for API Consumption.\n",
    "\n",
    "### Please note using free trail subscription of Azure, link may not work post subscription is over"
   ]
  },
  {
   "cell_type": "code",
   "execution_count": 1,
   "id": "eaf495a7",
   "metadata": {
    "ExecuteTime": {
     "end_time": "2022-03-05T18:51:48.924315Z",
     "start_time": "2022-03-05T18:51:46.376855Z"
    }
   },
   "outputs": [
    {
     "name": "stdout",
     "output_type": "stream",
     "text": [
      "b'{\"Results\": [1]}'\n"
     ]
    }
   ],
   "source": [
    "import urllib.request\n",
    "import json\n",
    "import os\n",
    "import ssl\n",
    "\n",
    "def allowSelfSignedHttps(allowed):\n",
    "    # bypass the server certificate verification on client side\n",
    "    if allowed and not os.environ.get('PYTHONHTTPSVERIFY', '') and getattr(ssl, '_create_unverified_context', None):\n",
    "        ssl._create_default_https_context = ssl._create_unverified_context\n",
    "\n",
    "allowSelfSignedHttps(True) # this line is needed if you use self-signed certificate in your scoring service.\n",
    "\n",
    "# Request data goes here\n",
    "data = {\n",
    "    \"Inputs\": {\n",
    "        \"data\":\n",
    "        [\n",
    "            {\n",
    "                \"Pregnancies\": \"6\",\n",
    "                \"Glucose\": \"148\",\n",
    "                \"BloodPressure\": \"72\",\n",
    "                \"SkinThickness\": \"35\",\n",
    "                \"Insulin\": \"0\",\n",
    "                \"BMI\": \"33.6\",\n",
    "                \"DiabetesPedigreeFunction\": \"0.627\",\n",
    "                \"Age\": \"50\"\n",
    "            },\n",
    "        ]\n",
    "    },\n",
    "    \"GlobalParameters\": {\n",
    "        \"method\": \"predict\"\n",
    "    }\n",
    "}\n",
    "\n",
    "body = str.encode(json.dumps(data))\n",
    "\n",
    "url = 'http://8516efd5-0f54-4d7e-989b-f28aad3df56d.eastus.azurecontainer.io/score'\n",
    "api_key = 'gU6tznDYNexV0E8GN9rdiibasEio8Fyc' # Replace this with the API key for the web service\n",
    "headers = {'Content-Type':'application/json', 'Authorization':('Bearer '+ api_key)}\n",
    "\n",
    "req = urllib.request.Request(url, body, headers)\n",
    "\n",
    "try:\n",
    "    response = urllib.request.urlopen(req)\n",
    "\n",
    "    result = response.read()\n",
    "    print(result)\n",
    "except urllib.error.HTTPError as error:\n",
    "    print(\"The request failed with status code: \" + str(error.code))\n",
    "\n",
    "    # Print the headers - they include the requert ID and the timestamp, which are useful for debugging the failure\n",
    "    print(error.info())\n",
    "    print(json.loads(error.read().decode(\"utf8\", 'ignore')))"
   ]
  },
  {
   "cell_type": "markdown",
   "id": "9c06b380",
   "metadata": {},
   "source": [
    "## Swagger Document"
   ]
  },
  {
   "cell_type": "markdown",
   "id": "8ceb3196",
   "metadata": {
    "ExecuteTime": {
     "end_time": "2022-03-05T20:19:49.645520Z",
     "start_time": "2022-03-05T20:19:49.629527Z"
    }
   },
   "source": [
    "http://8516efd5-0f54-4d7e-989b-f28aad3df56d.eastus.azurecontainer.io/swagger.json"
   ]
  },
  {
   "cell_type": "code",
   "execution_count": null,
   "id": "eca5d98b",
   "metadata": {},
   "outputs": [],
   "source": []
  }
 ],
 "metadata": {
  "kernelspec": {
   "display_name": "Python 3 (ipykernel)",
   "language": "python",
   "name": "python3"
  },
  "language_info": {
   "codemirror_mode": {
    "name": "ipython",
    "version": 3
   },
   "file_extension": ".py",
   "mimetype": "text/x-python",
   "name": "python",
   "nbconvert_exporter": "python",
   "pygments_lexer": "ipython3",
   "version": "3.9.7"
  }
 },
 "nbformat": 4,
 "nbformat_minor": 5
}
