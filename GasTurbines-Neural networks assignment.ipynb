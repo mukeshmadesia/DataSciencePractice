{
 "cells": [
  {
   "cell_type": "code",
   "execution_count": 1,
   "id": "473223d9",
   "metadata": {},
   "outputs": [],
   "source": [
    "import pandas as pd\n",
    "import numpy as np\n",
    "import matplotlib.pyplot as plt\n",
    "import tensorflow as tf\n",
    "from keras.models import Sequential\n",
    "from keras.layers import Dense\n",
    "import keras\n",
    "import seaborn as sns"
   ]
  },
  {
   "cell_type": "code",
   "execution_count": 24,
   "id": "2538c73b",
   "metadata": {},
   "outputs": [
    {
     "data": {
      "text/html": [
       "<div>\n",
       "<style scoped>\n",
       "    .dataframe tbody tr th:only-of-type {\n",
       "        vertical-align: middle;\n",
       "    }\n",
       "\n",
       "    .dataframe tbody tr th {\n",
       "        vertical-align: top;\n",
       "    }\n",
       "\n",
       "    .dataframe thead th {\n",
       "        text-align: right;\n",
       "    }\n",
       "</style>\n",
       "<table border=\"1\" class=\"dataframe\">\n",
       "  <thead>\n",
       "    <tr style=\"text-align: right;\">\n",
       "      <th></th>\n",
       "      <th>AT</th>\n",
       "      <th>AP</th>\n",
       "      <th>AH</th>\n",
       "      <th>AFDP</th>\n",
       "      <th>GTEP</th>\n",
       "      <th>TIT</th>\n",
       "      <th>TAT</th>\n",
       "      <th>TEY</th>\n",
       "      <th>CDP</th>\n",
       "      <th>CO</th>\n",
       "      <th>NOX</th>\n",
       "    </tr>\n",
       "  </thead>\n",
       "  <tbody>\n",
       "    <tr>\n",
       "      <th>0</th>\n",
       "      <td>6.8594</td>\n",
       "      <td>1007.9</td>\n",
       "      <td>96.799</td>\n",
       "      <td>3.5000</td>\n",
       "      <td>19.663</td>\n",
       "      <td>1059.2</td>\n",
       "      <td>550.00</td>\n",
       "      <td>114.70</td>\n",
       "      <td>10.605</td>\n",
       "      <td>3.1547</td>\n",
       "      <td>82.722</td>\n",
       "    </tr>\n",
       "    <tr>\n",
       "      <th>1</th>\n",
       "      <td>6.7850</td>\n",
       "      <td>1008.4</td>\n",
       "      <td>97.118</td>\n",
       "      <td>3.4998</td>\n",
       "      <td>19.728</td>\n",
       "      <td>1059.3</td>\n",
       "      <td>550.00</td>\n",
       "      <td>114.72</td>\n",
       "      <td>10.598</td>\n",
       "      <td>3.2363</td>\n",
       "      <td>82.776</td>\n",
       "    </tr>\n",
       "    <tr>\n",
       "      <th>2</th>\n",
       "      <td>6.8977</td>\n",
       "      <td>1008.8</td>\n",
       "      <td>95.939</td>\n",
       "      <td>3.4824</td>\n",
       "      <td>19.779</td>\n",
       "      <td>1059.4</td>\n",
       "      <td>549.87</td>\n",
       "      <td>114.71</td>\n",
       "      <td>10.601</td>\n",
       "      <td>3.2012</td>\n",
       "      <td>82.468</td>\n",
       "    </tr>\n",
       "    <tr>\n",
       "      <th>3</th>\n",
       "      <td>7.0569</td>\n",
       "      <td>1009.2</td>\n",
       "      <td>95.249</td>\n",
       "      <td>3.4805</td>\n",
       "      <td>19.792</td>\n",
       "      <td>1059.6</td>\n",
       "      <td>549.99</td>\n",
       "      <td>114.72</td>\n",
       "      <td>10.606</td>\n",
       "      <td>3.1923</td>\n",
       "      <td>82.670</td>\n",
       "    </tr>\n",
       "    <tr>\n",
       "      <th>4</th>\n",
       "      <td>7.3978</td>\n",
       "      <td>1009.7</td>\n",
       "      <td>95.150</td>\n",
       "      <td>3.4976</td>\n",
       "      <td>19.765</td>\n",
       "      <td>1059.7</td>\n",
       "      <td>549.98</td>\n",
       "      <td>114.72</td>\n",
       "      <td>10.612</td>\n",
       "      <td>3.2484</td>\n",
       "      <td>82.311</td>\n",
       "    </tr>\n",
       "  </tbody>\n",
       "</table>\n",
       "</div>"
      ],
      "text/plain": [
       "       AT      AP      AH    AFDP    GTEP     TIT     TAT     TEY     CDP  \\\n",
       "0  6.8594  1007.9  96.799  3.5000  19.663  1059.2  550.00  114.70  10.605   \n",
       "1  6.7850  1008.4  97.118  3.4998  19.728  1059.3  550.00  114.72  10.598   \n",
       "2  6.8977  1008.8  95.939  3.4824  19.779  1059.4  549.87  114.71  10.601   \n",
       "3  7.0569  1009.2  95.249  3.4805  19.792  1059.6  549.99  114.72  10.606   \n",
       "4  7.3978  1009.7  95.150  3.4976  19.765  1059.7  549.98  114.72  10.612   \n",
       "\n",
       "       CO     NOX  \n",
       "0  3.1547  82.722  \n",
       "1  3.2363  82.776  \n",
       "2  3.2012  82.468  \n",
       "3  3.1923  82.670  \n",
       "4  3.2484  82.311  "
      ]
     },
     "execution_count": 24,
     "metadata": {},
     "output_type": "execute_result"
    }
   ],
   "source": [
    "turbine=pd.read_csv(\"D:\\\\ExcelR Assignments\\\\Neural Networks\\\\gas_turbines.csv\")\n",
    "turbine.head()"
   ]
  },
  {
   "cell_type": "code",
   "execution_count": 25,
   "id": "0feefdce",
   "metadata": {},
   "outputs": [
    {
     "data": {
      "text/html": [
       "<div>\n",
       "<style scoped>\n",
       "    .dataframe tbody tr th:only-of-type {\n",
       "        vertical-align: middle;\n",
       "    }\n",
       "\n",
       "    .dataframe tbody tr th {\n",
       "        vertical-align: top;\n",
       "    }\n",
       "\n",
       "    .dataframe thead th {\n",
       "        text-align: right;\n",
       "    }\n",
       "</style>\n",
       "<table border=\"1\" class=\"dataframe\">\n",
       "  <thead>\n",
       "    <tr style=\"text-align: right;\">\n",
       "      <th></th>\n",
       "      <th>AT</th>\n",
       "      <th>AP</th>\n",
       "      <th>AH</th>\n",
       "      <th>AFDP</th>\n",
       "      <th>GTEP</th>\n",
       "      <th>TIT</th>\n",
       "      <th>TAT</th>\n",
       "      <th>TEY</th>\n",
       "      <th>CDP</th>\n",
       "      <th>CO</th>\n",
       "      <th>NOX</th>\n",
       "    </tr>\n",
       "  </thead>\n",
       "  <tbody>\n",
       "    <tr>\n",
       "      <th>count</th>\n",
       "      <td>15039.000000</td>\n",
       "      <td>15039.00000</td>\n",
       "      <td>15039.000000</td>\n",
       "      <td>15039.000000</td>\n",
       "      <td>15039.000000</td>\n",
       "      <td>15039.000000</td>\n",
       "      <td>15039.000000</td>\n",
       "      <td>15039.000000</td>\n",
       "      <td>15039.000000</td>\n",
       "      <td>15039.000000</td>\n",
       "      <td>15039.000000</td>\n",
       "    </tr>\n",
       "    <tr>\n",
       "      <th>mean</th>\n",
       "      <td>17.764381</td>\n",
       "      <td>1013.19924</td>\n",
       "      <td>79.124174</td>\n",
       "      <td>4.200294</td>\n",
       "      <td>25.419061</td>\n",
       "      <td>1083.798770</td>\n",
       "      <td>545.396183</td>\n",
       "      <td>134.188464</td>\n",
       "      <td>12.102353</td>\n",
       "      <td>1.972499</td>\n",
       "      <td>68.190934</td>\n",
       "    </tr>\n",
       "    <tr>\n",
       "      <th>std</th>\n",
       "      <td>7.574323</td>\n",
       "      <td>6.41076</td>\n",
       "      <td>13.793439</td>\n",
       "      <td>0.760197</td>\n",
       "      <td>4.173916</td>\n",
       "      <td>16.527806</td>\n",
       "      <td>7.866803</td>\n",
       "      <td>15.829717</td>\n",
       "      <td>1.103196</td>\n",
       "      <td>2.222206</td>\n",
       "      <td>10.470586</td>\n",
       "    </tr>\n",
       "    <tr>\n",
       "      <th>min</th>\n",
       "      <td>0.522300</td>\n",
       "      <td>985.85000</td>\n",
       "      <td>30.344000</td>\n",
       "      <td>2.087400</td>\n",
       "      <td>17.878000</td>\n",
       "      <td>1000.800000</td>\n",
       "      <td>512.450000</td>\n",
       "      <td>100.170000</td>\n",
       "      <td>9.904400</td>\n",
       "      <td>0.000388</td>\n",
       "      <td>27.765000</td>\n",
       "    </tr>\n",
       "    <tr>\n",
       "      <th>25%</th>\n",
       "      <td>11.408000</td>\n",
       "      <td>1008.90000</td>\n",
       "      <td>69.750000</td>\n",
       "      <td>3.723900</td>\n",
       "      <td>23.294000</td>\n",
       "      <td>1079.600000</td>\n",
       "      <td>542.170000</td>\n",
       "      <td>127.985000</td>\n",
       "      <td>11.622000</td>\n",
       "      <td>0.858055</td>\n",
       "      <td>61.303500</td>\n",
       "    </tr>\n",
       "    <tr>\n",
       "      <th>50%</th>\n",
       "      <td>18.186000</td>\n",
       "      <td>1012.80000</td>\n",
       "      <td>82.266000</td>\n",
       "      <td>4.186200</td>\n",
       "      <td>25.082000</td>\n",
       "      <td>1088.700000</td>\n",
       "      <td>549.890000</td>\n",
       "      <td>133.780000</td>\n",
       "      <td>12.025000</td>\n",
       "      <td>1.390200</td>\n",
       "      <td>66.601000</td>\n",
       "    </tr>\n",
       "    <tr>\n",
       "      <th>75%</th>\n",
       "      <td>23.862500</td>\n",
       "      <td>1016.90000</td>\n",
       "      <td>90.043500</td>\n",
       "      <td>4.550900</td>\n",
       "      <td>27.184000</td>\n",
       "      <td>1096.000000</td>\n",
       "      <td>550.060000</td>\n",
       "      <td>140.895000</td>\n",
       "      <td>12.578000</td>\n",
       "      <td>2.160400</td>\n",
       "      <td>73.935500</td>\n",
       "    </tr>\n",
       "    <tr>\n",
       "      <th>max</th>\n",
       "      <td>34.929000</td>\n",
       "      <td>1034.20000</td>\n",
       "      <td>100.200000</td>\n",
       "      <td>7.610600</td>\n",
       "      <td>37.402000</td>\n",
       "      <td>1100.800000</td>\n",
       "      <td>550.610000</td>\n",
       "      <td>174.610000</td>\n",
       "      <td>15.081000</td>\n",
       "      <td>44.103000</td>\n",
       "      <td>119.890000</td>\n",
       "    </tr>\n",
       "  </tbody>\n",
       "</table>\n",
       "</div>"
      ],
      "text/plain": [
       "                 AT           AP            AH          AFDP          GTEP  \\\n",
       "count  15039.000000  15039.00000  15039.000000  15039.000000  15039.000000   \n",
       "mean      17.764381   1013.19924     79.124174      4.200294     25.419061   \n",
       "std        7.574323      6.41076     13.793439      0.760197      4.173916   \n",
       "min        0.522300    985.85000     30.344000      2.087400     17.878000   \n",
       "25%       11.408000   1008.90000     69.750000      3.723900     23.294000   \n",
       "50%       18.186000   1012.80000     82.266000      4.186200     25.082000   \n",
       "75%       23.862500   1016.90000     90.043500      4.550900     27.184000   \n",
       "max       34.929000   1034.20000    100.200000      7.610600     37.402000   \n",
       "\n",
       "                TIT           TAT           TEY           CDP            CO  \\\n",
       "count  15039.000000  15039.000000  15039.000000  15039.000000  15039.000000   \n",
       "mean    1083.798770    545.396183    134.188464     12.102353      1.972499   \n",
       "std       16.527806      7.866803     15.829717      1.103196      2.222206   \n",
       "min     1000.800000    512.450000    100.170000      9.904400      0.000388   \n",
       "25%     1079.600000    542.170000    127.985000     11.622000      0.858055   \n",
       "50%     1088.700000    549.890000    133.780000     12.025000      1.390200   \n",
       "75%     1096.000000    550.060000    140.895000     12.578000      2.160400   \n",
       "max     1100.800000    550.610000    174.610000     15.081000     44.103000   \n",
       "\n",
       "                NOX  \n",
       "count  15039.000000  \n",
       "mean      68.190934  \n",
       "std       10.470586  \n",
       "min       27.765000  \n",
       "25%       61.303500  \n",
       "50%       66.601000  \n",
       "75%       73.935500  \n",
       "max      119.890000  "
      ]
     },
     "execution_count": 25,
     "metadata": {},
     "output_type": "execute_result"
    }
   ],
   "source": [
    "turbine.describe()"
   ]
  },
  {
   "cell_type": "code",
   "execution_count": 26,
   "id": "fe67d33b",
   "metadata": {},
   "outputs": [],
   "source": [
    "columns=['AT','AP','AH','AFDP','GTEP','TIT','TAT','CDP','CO','NOX']"
   ]
  },
  {
   "cell_type": "code",
   "execution_count": 27,
   "id": "f6af2f82",
   "metadata": {},
   "outputs": [],
   "source": [
    "X=np.array(turbine[columns])\n",
    "Y=np.array(turbine[\"TEY\"])"
   ]
  },
  {
   "cell_type": "code",
   "execution_count": 28,
   "id": "95142059",
   "metadata": {},
   "outputs": [
    {
     "data": {
      "text/plain": [
       "array([[   6.8594, 1007.9   ,   96.799 , ...,   10.605 ,    3.1547,\n",
       "          82.722 ],\n",
       "       [   6.785 , 1008.4   ,   97.118 , ...,   10.598 ,    3.2363,\n",
       "          82.776 ],\n",
       "       [   6.8977, 1008.8   ,   95.939 , ...,   10.601 ,    3.2012,\n",
       "          82.468 ],\n",
       "       ...,\n",
       "       [   7.2647, 1006.3   ,   99.496 , ...,   10.483 ,    7.9632,\n",
       "          90.912 ],\n",
       "       [   7.006 , 1006.8   ,   99.008 , ...,   10.533 ,    6.2494,\n",
       "          93.227 ],\n",
       "       [   6.9279, 1007.2   ,   97.533 , ...,   10.583 ,    4.9816,\n",
       "          92.498 ]])"
      ]
     },
     "execution_count": 28,
     "metadata": {},
     "output_type": "execute_result"
    }
   ],
   "source": [
    "X"
   ]
  },
  {
   "cell_type": "code",
   "execution_count": 29,
   "id": "a042ef74",
   "metadata": {},
   "outputs": [
    {
     "data": {
      "text/plain": [
       "array([114.7 , 114.72, 114.71, ..., 110.19, 110.74, 111.58])"
      ]
     },
     "execution_count": 29,
     "metadata": {},
     "output_type": "execute_result"
    }
   ],
   "source": [
    "Y"
   ]
  },
  {
   "cell_type": "code",
   "execution_count": 37,
   "id": "8296935f",
   "metadata": {},
   "outputs": [],
   "source": [
    "model = Sequential()\n",
    "model.add(Dense(50, input_dim=10, kernel_initializer='uniform', activation='relu'))\n",
    "model.add(Dense(50, kernel_initializer='uniform', activation='relu'))\n",
    "model.add(Dense(1, kernel_initializer='uniform', activation='sigmoid'))"
   ]
  },
  {
   "cell_type": "code",
   "execution_count": 38,
   "id": "b03f9098",
   "metadata": {},
   "outputs": [],
   "source": [
    "model.compile(loss='mse',optimizer='adam',metrics=['accuracy'])"
   ]
  },
  {
   "cell_type": "code",
   "execution_count": 39,
   "id": "75ccef27",
   "metadata": {},
   "outputs": [
    {
     "name": "stdout",
     "output_type": "stream",
     "text": [
      "Epoch 1/50\n",
      "76/76 [==============================] - 1s 5ms/step - loss: 17579.9629 - accuracy: 0.0000e+00 - val_loss: 18407.3496 - val_accuracy: 0.0000e+00\n",
      "Epoch 2/50\n",
      "76/76 [==============================] - 0s 3ms/step - loss: 17572.0625 - accuracy: 0.0000e+00 - val_loss: 18407.3496 - val_accuracy: 0.0000e+00\n",
      "Epoch 3/50\n",
      "76/76 [==============================] - 0s 3ms/step - loss: 17572.0586 - accuracy: 0.0000e+00 - val_loss: 18407.3496 - val_accuracy: 0.0000e+00\n",
      "Epoch 4/50\n",
      "76/76 [==============================] - 0s 3ms/step - loss: 17572.0605 - accuracy: 0.0000e+00 - val_loss: 18407.3496 - val_accuracy: 0.0000e+00\n",
      "Epoch 5/50\n",
      "76/76 [==============================] - 0s 3ms/step - loss: 17572.0586 - accuracy: 0.0000e+00 - val_loss: 18407.3496 - val_accuracy: 0.0000e+00\n",
      "Epoch 6/50\n",
      "76/76 [==============================] - 0s 3ms/step - loss: 17572.0586 - accuracy: 0.0000e+00 - val_loss: 18407.3496 - val_accuracy: 0.0000e+00\n",
      "Epoch 7/50\n",
      "76/76 [==============================] - 0s 3ms/step - loss: 17572.0566 - accuracy: 0.0000e+00 - val_loss: 18407.3477 - val_accuracy: 0.0000e+00\n",
      "Epoch 8/50\n",
      "76/76 [==============================] - 0s 3ms/step - loss: 17572.0566 - accuracy: 0.0000e+00 - val_loss: 18407.3477 - val_accuracy: 0.0000e+00\n",
      "Epoch 9/50\n",
      "76/76 [==============================] - 0s 3ms/step - loss: 17572.0605 - accuracy: 0.0000e+00 - val_loss: 18407.3477 - val_accuracy: 0.0000e+00\n",
      "Epoch 10/50\n",
      "76/76 [==============================] - 0s 3ms/step - loss: 17572.0586 - accuracy: 0.0000e+00 - val_loss: 18407.3477 - val_accuracy: 0.0000e+00\n",
      "Epoch 11/50\n",
      "76/76 [==============================] - 0s 3ms/step - loss: 17572.0566 - accuracy: 0.0000e+00 - val_loss: 18407.3477 - val_accuracy: 0.0000e+00\n",
      "Epoch 12/50\n",
      "76/76 [==============================] - 0s 3ms/step - loss: 17572.0586 - accuracy: 0.0000e+00 - val_loss: 18407.3477 - val_accuracy: 0.0000e+00\n",
      "Epoch 13/50\n",
      "76/76 [==============================] - 0s 3ms/step - loss: 17572.0547 - accuracy: 0.0000e+00 - val_loss: 18407.3477 - val_accuracy: 0.0000e+00\n",
      "Epoch 14/50\n",
      "76/76 [==============================] - 0s 3ms/step - loss: 17572.0605 - accuracy: 0.0000e+00 - val_loss: 18407.3477 - val_accuracy: 0.0000e+00\n",
      "Epoch 15/50\n",
      "76/76 [==============================] - 0s 3ms/step - loss: 17572.0586 - accuracy: 0.0000e+00 - val_loss: 18407.3477 - val_accuracy: 0.0000e+00\n",
      "Epoch 16/50\n",
      "76/76 [==============================] - 0s 3ms/step - loss: 17572.0566 - accuracy: 0.0000e+00 - val_loss: 18407.3477 - val_accuracy: 0.0000e+00\n",
      "Epoch 17/50\n",
      "76/76 [==============================] - 0s 4ms/step - loss: 17572.0586 - accuracy: 0.0000e+00 - val_loss: 18407.3477 - val_accuracy: 0.0000e+00\n",
      "Epoch 18/50\n",
      "76/76 [==============================] - 0s 5ms/step - loss: 17572.0586 - accuracy: 0.0000e+00 - val_loss: 18407.3477 - val_accuracy: 0.0000e+00\n",
      "Epoch 19/50\n",
      "76/76 [==============================] - 0s 5ms/step - loss: 17572.0586 - accuracy: 0.0000e+00 - val_loss: 18407.3477 - val_accuracy: 0.0000e+00\n",
      "Epoch 20/50\n",
      "76/76 [==============================] - 0s 5ms/step - loss: 17572.0547 - accuracy: 0.0000e+00 - val_loss: 18407.3477 - val_accuracy: 0.0000e+00\n",
      "Epoch 21/50\n",
      "76/76 [==============================] - 0s 4ms/step - loss: 17572.0586 - accuracy: 0.0000e+00 - val_loss: 18407.3477 - val_accuracy: 0.0000e+00\n",
      "Epoch 22/50\n",
      "76/76 [==============================] - 0s 4ms/step - loss: 17572.0586 - accuracy: 0.0000e+00 - val_loss: 18407.3477 - val_accuracy: 0.0000e+00\n",
      "Epoch 23/50\n",
      "76/76 [==============================] - 0s 3ms/step - loss: 17572.0586 - accuracy: 0.0000e+00 - val_loss: 18407.3477 - val_accuracy: 0.0000e+00\n",
      "Epoch 24/50\n",
      "76/76 [==============================] - 0s 3ms/step - loss: 17572.0586 - accuracy: 0.0000e+00 - val_loss: 18407.3477 - val_accuracy: 0.0000e+00\n",
      "Epoch 25/50\n",
      "76/76 [==============================] - 0s 3ms/step - loss: 17572.0605 - accuracy: 0.0000e+00 - val_loss: 18407.3477 - val_accuracy: 0.0000e+00\n",
      "Epoch 26/50\n",
      "76/76 [==============================] - 0s 3ms/step - loss: 17572.0586 - accuracy: 0.0000e+00 - val_loss: 18407.3477 - val_accuracy: 0.0000e+00\n",
      "Epoch 27/50\n",
      "76/76 [==============================] - 0s 3ms/step - loss: 17572.0586 - accuracy: 0.0000e+00 - val_loss: 18407.3477 - val_accuracy: 0.0000e+00\n",
      "Epoch 28/50\n",
      "76/76 [==============================] - 0s 5ms/step - loss: 17572.0586 - accuracy: 0.0000e+00 - val_loss: 18407.3477 - val_accuracy: 0.0000e+00\n",
      "Epoch 29/50\n",
      "76/76 [==============================] - 0s 7ms/step - loss: 17572.0586 - accuracy: 0.0000e+00 - val_loss: 18407.3477 - val_accuracy: 0.0000e+00\n",
      "Epoch 30/50\n",
      "76/76 [==============================] - 0s 5ms/step - loss: 17572.0566 - accuracy: 0.0000e+00 - val_loss: 18407.3477 - val_accuracy: 0.0000e+00\n",
      "Epoch 31/50\n",
      "76/76 [==============================] - 0s 4ms/step - loss: 17572.0586 - accuracy: 0.0000e+00 - val_loss: 18407.3477 - val_accuracy: 0.0000e+00\n",
      "Epoch 32/50\n",
      "76/76 [==============================] - 0s 4ms/step - loss: 17572.0586 - accuracy: 0.0000e+00 - val_loss: 18407.3477 - val_accuracy: 0.0000e+00\n",
      "Epoch 33/50\n",
      "76/76 [==============================] - 0s 4ms/step - loss: 17572.0566 - accuracy: 0.0000e+00 - val_loss: 18407.3477 - val_accuracy: 0.0000e+00\n",
      "Epoch 34/50\n",
      "76/76 [==============================] - 0s 4ms/step - loss: 17572.0586 - accuracy: 0.0000e+00 - val_loss: 18407.3477 - val_accuracy: 0.0000e+00\n",
      "Epoch 35/50\n",
      "76/76 [==============================] - 0s 3ms/step - loss: 17572.0586 - accuracy: 0.0000e+00 - val_loss: 18407.3477 - val_accuracy: 0.0000e+00\n",
      "Epoch 36/50\n",
      "76/76 [==============================] - 0s 3ms/step - loss: 17572.0605 - accuracy: 0.0000e+00 - val_loss: 18407.3477 - val_accuracy: 0.0000e+00\n",
      "Epoch 37/50\n",
      "76/76 [==============================] - 0s 5ms/step - loss: 17572.0605 - accuracy: 0.0000e+00 - val_loss: 18407.3477 - val_accuracy: 0.0000e+00\n",
      "Epoch 38/50\n",
      "76/76 [==============================] - 0s 3ms/step - loss: 17572.0605 - accuracy: 0.0000e+00 - val_loss: 18407.3477 - val_accuracy: 0.0000e+00\n",
      "Epoch 39/50\n",
      "76/76 [==============================] - 0s 3ms/step - loss: 17572.0586 - accuracy: 0.0000e+00 - val_loss: 18407.3477 - val_accuracy: 0.0000e+00\n",
      "Epoch 40/50\n",
      "76/76 [==============================] - 0s 3ms/step - loss: 17572.0566 - accuracy: 0.0000e+00 - val_loss: 18407.3477 - val_accuracy: 0.0000e+00\n",
      "Epoch 41/50\n",
      "76/76 [==============================] - 0s 5ms/step - loss: 17572.0547 - accuracy: 0.0000e+00 - val_loss: 18407.3477 - val_accuracy: 0.0000e+00\n",
      "Epoch 42/50\n",
      "76/76 [==============================] - 0s 4ms/step - loss: 17572.0586 - accuracy: 0.0000e+00 - val_loss: 18407.3477 - val_accuracy: 0.0000e+00\n",
      "Epoch 43/50\n",
      "76/76 [==============================] - 0s 3ms/step - loss: 17572.0625 - accuracy: 0.0000e+00 - val_loss: 18407.3477 - val_accuracy: 0.0000e+00\n",
      "Epoch 44/50\n",
      "76/76 [==============================] - 0s 3ms/step - loss: 17572.0586 - accuracy: 0.0000e+00 - val_loss: 18407.3477 - val_accuracy: 0.0000e+00\n",
      "Epoch 45/50\n",
      "76/76 [==============================] - 0s 3ms/step - loss: 17572.0586 - accuracy: 0.0000e+00 - val_loss: 18407.3477 - val_accuracy: 0.0000e+00\n",
      "Epoch 46/50\n",
      "76/76 [==============================] - 0s 3ms/step - loss: 17572.0586 - accuracy: 0.0000e+00 - val_loss: 18407.3477 - val_accuracy: 0.0000e+00\n",
      "Epoch 47/50\n",
      "76/76 [==============================] - 0s 3ms/step - loss: 17572.0605 - accuracy: 0.0000e+00 - val_loss: 18407.3477 - val_accuracy: 0.0000e+00\n",
      "Epoch 48/50\n",
      "76/76 [==============================] - 0s 3ms/step - loss: 17572.0566 - accuracy: 0.0000e+00 - val_loss: 18407.3477 - val_accuracy: 0.0000e+00\n",
      "Epoch 49/50\n",
      "76/76 [==============================] - 0s 3ms/step - loss: 17572.0586 - accuracy: 0.0000e+00 - val_loss: 18407.3477 - val_accuracy: 0.0000e+00\n",
      "Epoch 50/50\n",
      "76/76 [==============================] - 0s 3ms/step - loss: 17572.0605 - accuracy: 0.0000e+00 - val_loss: 18407.3477 - val_accuracy: 0.0000e+00\n"
     ]
    }
   ],
   "source": [
    "history=model.fit(X, Y, validation_split=0.5, epochs=50, batch_size=100)"
   ]
  },
  {
   "cell_type": "code",
   "execution_count": 40,
   "id": "997f4d64",
   "metadata": {},
   "outputs": [
    {
     "data": {
      "text/plain": [
       "dict_keys(['loss', 'accuracy', 'val_loss', 'val_accuracy'])"
      ]
     },
     "execution_count": 40,
     "metadata": {},
     "output_type": "execute_result"
    }
   ],
   "source": [
    "history.history.keys()"
   ]
  },
  {
   "cell_type": "code",
   "execution_count": 41,
   "id": "19847739",
   "metadata": {},
   "outputs": [
    {
     "data": {
      "text/plain": [
       "[<matplotlib.lines.Line2D at 0x167b88c7760>]"
      ]
     },
     "execution_count": 41,
     "metadata": {},
     "output_type": "execute_result"
    },
    {
     "data": {
      "image/png": "[encoded data removed]",
      "text/plain": [
       "<Figure size 432x288 with 1 Axes>"
      ]
     },
     "metadata": {
      "needs_background": "light"
     },
     "output_type": "display_data"
    }
   ],
   "source": [
    "plt.xlabel(\"epoch\")\n",
    "plt.ylabel(\"accuracy\")\n",
    "plt.title(\"Model accuracy\")\n",
    "plt.plot(history.history['accuracy'])\n",
    "plt.plot(history.history['val_accuracy'])"
   ]
  },
  {
   "cell_type": "code",
   "execution_count": 42,
   "id": "594a7cf1",
   "metadata": {},
   "outputs": [
    {
     "data": {
      "text/plain": [
       "<matplotlib.legend.Legend at 0x167b88e2f70>"
      ]
     },
     "execution_count": 42,
     "metadata": {},
     "output_type": "execute_result"
    },
    {
     "data": {
      "image/png": "[encoded data removed]",
      "text/plain": [
       "<Figure size 432x288 with 1 Axes>"
      ]
     },
     "metadata": {
      "needs_background": "light"
     },
     "output_type": "display_data"
    }
   ],
   "source": [
    "plt.xlabel(\"epoch\")\n",
    "plt.ylabel(\"loss\")\n",
    "plt.title(\"Model loss\")\n",
    "plt.plot(history.history['loss'])\n",
    "plt.plot(history.history['val_loss'])\n",
    "plt.legend(['train', 'test'], loc='upper left')"
   ]
  },
  {
   "cell_type": "code",
   "execution_count": null,
   "id": "fb27a17a",
   "metadata": {},
   "outputs": [],
   "source": []
  }
 ],
 "metadata": {
  "kernelspec": {
   "display_name": "Python 3",
   "language": "python",
   "name": "python3"
  },
  "language_info": {
   "codemirror_mode": {
    "name": "ipython",
    "version": 3
   },
   "file_extension": ".py",
   "mimetype": "text/x-python",
   "name": "python",
   "nbconvert_exporter": "python",
   "pygments_lexer": "ipython3",
   "version": "3.8.8"
  }
 },
 "nbformat": 4,
 "nbformat_minor": 5
}
