{
 "cells": [
  {
   "cell_type": "markdown",
   "id": "d1288856",
   "metadata": {},
   "source": [
    "## SET 1"
   ]
  },
  {
   "cell_type": "markdown",
   "id": "de75f6ff",
   "metadata": {},
   "source": [
    "### Ques 1"
   ]
  },
  {
   "cell_type": "code",
   "execution_count": 2,
   "id": "45f810bf",
   "metadata": {
    "ExecuteTime": {
     "end_time": "2022-01-27T10:19:31.884810Z",
     "start_time": "2022-01-27T10:19:31.802915Z"
    }
   },
   "outputs": [],
   "source": [
    "a = [24.23,\n",
    "25.53,\n",
    "25.41,\n",
    "24.14,\n",
    "29.62,\n",
    "28.25,\n",
    "25.81,\n",
    "24.39,\n",
    "40.26,\n",
    "32.95,\n",
    "91.36,\n",
    "25.99,\n",
    "39.42,\n",
    "26.71,\n",
    "35.00]\n"
   ]
  },
  {
   "cell_type": "code",
   "execution_count": 3,
   "id": "82712523",
   "metadata": {
    "ExecuteTime": {
     "end_time": "2022-01-27T10:19:52.074788Z",
     "start_time": "2022-01-27T10:19:48.104254Z"
    }
   },
   "outputs": [],
   "source": [
    "import numpy as np"
   ]
  },
  {
   "cell_type": "code",
   "execution_count": 4,
   "id": "8d94e2f6",
   "metadata": {
    "ExecuteTime": {
     "end_time": "2022-01-27T10:20:02.770195Z",
     "start_time": "2022-01-27T10:20:02.688242Z"
    }
   },
   "outputs": [
    {
     "data": {
      "text/plain": [
       "33.27133333333333"
      ]
     },
     "execution_count": 4,
     "metadata": {},
     "output_type": "execute_result"
    }
   ],
   "source": [
    "np.mean(a)"
   ]
  },
  {
   "cell_type": "code",
   "execution_count": 5,
   "id": "3bac4350",
   "metadata": {
    "ExecuteTime": {
     "end_time": "2022-01-27T10:20:26.631667Z",
     "start_time": "2022-01-27T10:20:26.588748Z"
    }
   },
   "outputs": [
    {
     "data": {
      "text/plain": [
       "16.370812590976932"
      ]
     },
     "execution_count": 5,
     "metadata": {},
     "output_type": "execute_result"
    }
   ],
   "source": [
    "np.std(a)"
   ]
  },
  {
   "cell_type": "code",
   "execution_count": 6,
   "id": "18ffa5c5",
   "metadata": {
    "ExecuteTime": {
     "end_time": "2022-01-27T10:20:37.380977Z",
     "start_time": "2022-01-27T10:20:37.365353Z"
    }
   },
   "outputs": [
    {
     "data": {
      "text/plain": [
       "268.00350488888887"
      ]
     },
     "execution_count": 6,
     "metadata": {},
     "output_type": "execute_result"
    }
   ],
   "source": [
    "np.var(a)"
   ]
  },
  {
   "cell_type": "code",
   "execution_count": 7,
   "id": "ec18b5aa",
   "metadata": {
    "ExecuteTime": {
     "end_time": "2022-01-27T10:22:03.477407Z",
     "start_time": "2022-01-27T10:21:35.697849Z"
    }
   },
   "outputs": [],
   "source": [
    "import seaborn as sns"
   ]
  },
  {
   "cell_type": "code",
   "execution_count": 8,
   "id": "36166adc",
   "metadata": {
    "ExecuteTime": {
     "end_time": "2022-01-27T10:22:09.293342Z",
     "start_time": "2022-01-27T10:22:07.586539Z"
    }
   },
   "outputs": [
    {
     "name": "stderr",
     "output_type": "stream",
     "text": [
      "C:\\ProgramData\\Anaconda3\\lib\\site-packages\\seaborn\\_decorators.py:36: FutureWarning: Pass the following variable as a keyword arg: x. From version 0.12, the only valid positional argument will be `data`, and passing other arguments without an explicit keyword will result in an error or misinterpretation.\n",
      "  warnings.warn(\n"
     ]
    },
    {
     "data": {
      "text/plain": [
       "<AxesSubplot:>"
      ]
     },
     "execution_count": 8,
     "metadata": {},
     "output_type": "execute_result"
    },
    {
     "data": {
      "image/png": "[encoded data removed]",
      "text/plain": [
       "<Figure size 432x288 with 1 Axes>"
      ]
     },
     "metadata": {
      "needs_background": "light"
     },
     "output_type": "display_data"
    }
   ],
   "source": [
    "sns.boxplot(a)"
   ]
  },
  {
   "cell_type": "code",
   "execution_count": null,
   "id": "32d577b0",
   "metadata": {},
   "outputs": [],
   "source": []
  },
  {
   "cell_type": "code",
   "execution_count": 9,
   "id": "ddfc69e0",
   "metadata": {
    "ExecuteTime": {
     "end_time": "2022-01-27T11:05:07.719428Z",
     "start_time": "2022-01-27T11:05:07.700440Z"
    }
   },
   "outputs": [],
   "source": [
    "b = [24.23,\n",
    "25.53,\n",
    "25.41,\n",
    "24.14,\n",
    "29.62,\n",
    "28.25,\n",
    "25.81,\n",
    "24.39,\n",
    "40.26,\n",
    "32.95,\n",
    "25.99,\n",
    "39.42,\n",
    "26.71,\n",
    "35.00]\n"
   ]
  },
  {
   "cell_type": "code",
   "execution_count": 10,
   "id": "85b39bfe",
   "metadata": {
    "ExecuteTime": {
     "end_time": "2022-01-27T11:06:10.047809Z",
     "start_time": "2022-01-27T11:06:09.785959Z"
    }
   },
   "outputs": [
    {
     "name": "stderr",
     "output_type": "stream",
     "text": [
      "C:\\ProgramData\\Anaconda3\\lib\\site-packages\\seaborn\\_decorators.py:36: FutureWarning: Pass the following variable as a keyword arg: x. From version 0.12, the only valid positional argument will be `data`, and passing other arguments without an explicit keyword will result in an error or misinterpretation.\n",
      "  warnings.warn(\n"
     ]
    },
    {
     "data": {
      "text/plain": [
       "<AxesSubplot:>"
      ]
     },
     "execution_count": 10,
     "metadata": {},
     "output_type": "execute_result"
    },
    {
     "data": {
      "image/png": "[encoded data removed]",
      "text/plain": [
       "<Figure size 432x288 with 1 Axes>"
      ]
     },
     "metadata": {
      "needs_background": "light"
     },
     "output_type": "display_data"
    }
   ],
   "source": [
    "sns.boxplot(b) "
   ]
  },
  {
   "cell_type": "code",
   "execution_count": 13,
   "id": "cfd128fc",
   "metadata": {
    "ExecuteTime": {
     "end_time": "2022-01-27T11:47:15.121291Z",
     "start_time": "2022-01-27T11:47:15.105301Z"
    }
   },
   "outputs": [
    {
     "data": {
      "text/plain": [
       "0.02475124687812502"
      ]
     },
     "execution_count": 13,
     "metadata": {},
     "output_type": "execute_result"
    }
   ],
   "source": [
    "#Probability of atleast one mis direction out of 5 calls\n",
    "\n",
    "1 - (1- 0.005)**5"
   ]
  },
  {
   "cell_type": "code",
   "execution_count": 14,
   "id": "0fa4d014",
   "metadata": {
    "ExecuteTime": {
     "end_time": "2022-01-27T12:47:31.294584Z",
     "start_time": "2022-01-27T12:47:31.211327Z"
    }
   },
   "outputs": [
    {
     "data": {
      "text/plain": [
       "800.0"
      ]
     },
     "execution_count": 14,
     "metadata": {},
     "output_type": "execute_result"
    }
   ],
   "source": [
    "-2000*0.1 + -1000*0.1+0*0.2+ 1000*0.2 +2000*0.3 +3000*0.1"
   ]
  },
  {
   "cell_type": "markdown",
   "id": "69540915",
   "metadata": {},
   "source": [
    "## SET 2"
   ]
  },
  {
   "cell_type": "markdown",
   "id": "9a068c47",
   "metadata": {},
   "source": [
    "1.\tThe time required for servicing transmissions is normally distributed with mean = 45 minutes and SD = 8 minutes. The service manager plans to have work begin on the transmission of a customer’s car 10 minutes after the car is dropped off and the customer is told that the car will be ready within 1 hour from drop-off. What is the probability that the service manager cannot meet his commitment? "
   ]
  },
  {
   "cell_type": "markdown",
   "id": "46ce3f83",
   "metadata": {
    "ExecuteTime": {
     "end_time": "2022-01-28T07:01:00.510895Z",
     "start_time": "2022-01-28T07:01:00.478878Z"
    }
   },
   "source": [
    "Time left for Servicing = 60 - 10 = 50 min"
   ]
  },
  {
   "cell_type": "code",
   "execution_count": 2,
   "id": "8b06c5e2",
   "metadata": {
    "ExecuteTime": {
     "end_time": "2022-01-28T07:01:44.253790Z",
     "start_time": "2022-01-28T07:01:39.870895Z"
    }
   },
   "outputs": [],
   "source": [
    "import numpy as np\n",
    "import scipy "
   ]
  },
  {
   "cell_type": "code",
   "execution_count": 6,
   "id": "15084b66",
   "metadata": {
    "ExecuteTime": {
     "end_time": "2022-01-28T07:04:01.645025Z",
     "start_time": "2022-01-28T07:03:51.456963Z"
    }
   },
   "outputs": [],
   "source": [
    "from scipy import stats"
   ]
  },
  {
   "cell_type": "code",
   "execution_count": 8,
   "id": "b24531aa",
   "metadata": {
    "ExecuteTime": {
     "end_time": "2022-01-28T07:05:23.401413Z",
     "start_time": "2022-01-28T07:05:23.385411Z"
    }
   },
   "outputs": [
    {
     "data": {
      "text/plain": [
       "0.26598552904870054"
      ]
     },
     "execution_count": 8,
     "metadata": {},
     "output_type": "execute_result"
    }
   ],
   "source": [
    "# prbability of achieving 50 min target, if mean = 45 and SD = 8\n",
    "p = stats.norm.cdf(50,45,8)\n",
    "\n",
    "#probability of missing the target\n",
    "\n",
    "1-p"
   ]
  },
  {
   "cell_type": "markdown",
   "id": "aca015ae",
   "metadata": {},
   "source": [
    "2.\tThe current age (in years) of 400 clerical employees at an insurance claims processing center is normally distributed with mean  = 38 and Standard deviation  =6. For each statement below, please specify True/False. If false, briefly explain why.\n",
    "A.\tMore employees at the processing center are older than 44 than between 38 and 44.\n",
    "B.\tA training program for employees under the age of 30 at the center would be expected to attract about 36 employees.\n"
   ]
  },
  {
   "cell_type": "code",
   "execution_count": 9,
   "id": "e27ce46e",
   "metadata": {
    "ExecuteTime": {
     "end_time": "2022-01-28T08:06:25.480453Z",
     "start_time": "2022-01-28T08:06:25.456456Z"
    }
   },
   "outputs": [
    {
     "data": {
      "text/plain": [
       "0.15865525393145707"
      ]
     },
     "execution_count": 9,
     "metadata": {},
     "output_type": "execute_result"
    }
   ],
   "source": [
    "#probability of employee > 44\n",
    "1- stats.norm.cdf(44,38,6)\n"
   ]
  },
  {
   "cell_type": "code",
   "execution_count": 11,
   "id": "a24e968d",
   "metadata": {
    "ExecuteTime": {
     "end_time": "2022-01-28T08:08:04.674017Z",
     "start_time": "2022-01-28T08:08:04.650020Z"
    }
   },
   "outputs": [
    {
     "data": {
      "text/plain": [
       "0.3413447460685429"
      ]
     },
     "execution_count": 11,
     "metadata": {},
     "output_type": "execute_result"
    }
   ],
   "source": [
    "#probability of employee age between 38 - 44\n",
    "stats.norm.cdf(44,38,6) - stats.norm.cdf(38,38,6)"
   ]
  },
  {
   "cell_type": "code",
   "execution_count": 12,
   "id": "4e467e25",
   "metadata": {
    "ExecuteTime": {
     "end_time": "2022-01-28T08:19:18.130285Z",
     "start_time": "2022-01-28T08:19:18.114285Z"
    }
   },
   "outputs": [
    {
     "data": {
      "text/plain": [
       "0.09121121972586788"
      ]
     },
     "execution_count": 12,
     "metadata": {},
     "output_type": "execute_result"
    }
   ],
   "source": [
    "# UNDER AGE <30\n",
    "stats.norm.cdf(30,38,6)"
   ]
  },
  {
   "cell_type": "markdown",
   "id": "4fc4d843",
   "metadata": {},
   "source": [
    "4.\tLet X ~ N(100, 202). Find two values, a and b, symmetric about the mean, such that the probability of the random variable taking a value between them is 0.99. "
   ]
  },
  {
   "cell_type": "code",
   "execution_count": 13,
   "id": "dca21864",
   "metadata": {
    "ExecuteTime": {
     "end_time": "2022-01-28T12:47:09.177723Z",
     "start_time": "2022-01-28T12:47:08.993996Z"
    }
   },
   "outputs": [
    {
     "data": {
      "text/plain": [
       "(48.48341392902199, 151.516586070978)"
      ]
     },
     "execution_count": 13,
     "metadata": {},
     "output_type": "execute_result"
    }
   ],
   "source": [
    "stats.norm.interval(0.99,100,20)"
   ]
  },
  {
   "cell_type": "markdown",
   "id": "8592ad86",
   "metadata": {},
   "source": [
    "5.\tConsider a company that has two different divisions. The annual profits from the two divisions are independent and have distributions Profit1 ~ N(5, 32) and Profit2 ~ N(7, 42) respectively. Both the profits are in dollars Million. Answer the following questions about the total profit of the company in Rupees. Assume that Dollar 1 = Rs. 45\n",
    "\n",
    "A.\tSpecify a Rupee range (centered on the mean) such that it contains 95% probability for the annual profit of the company.\n",
    "\n",
    "B.\tSpecify the 5th percentile of profit (in Rupees) for the company\n",
    "\n",
    "C.\tWhich of the two divisions has a larger probability of making a loss in a given year?\n"
   ]
  },
  {
   "cell_type": "code",
   "execution_count": 32,
   "id": "ad75ce54",
   "metadata": {
    "ExecuteTime": {
     "end_time": "2022-01-28T13:40:23.386439Z",
     "start_time": "2022-01-28T13:40:23.330758Z"
    }
   },
   "outputs": [
    {
     "data": {
      "text/plain": [
       "0.0477903522728147"
      ]
     },
     "execution_count": 32,
     "metadata": {},
     "output_type": "execute_result"
    }
   ],
   "source": [
    "#probability of loss Div 1 - probability of profit < 0\n",
    "stats.norm.cdf(0,5,3)"
   ]
  },
  {
   "cell_type": "code",
   "execution_count": 38,
   "id": "dbd2bb21",
   "metadata": {
    "ExecuteTime": {
     "end_time": "2022-01-28T13:49:01.562748Z",
     "start_time": "2022-01-28T13:49:01.545759Z"
    }
   },
   "outputs": [
    {
     "data": {
      "text/plain": [
       "0.040059156863817086"
      ]
     },
     "execution_count": 38,
     "metadata": {},
     "output_type": "execute_result"
    }
   ],
   "source": [
    "#probability of loss Div 1 - - probability of profit < 0\n",
    "stats.norm.cdf(0,7,4)"
   ]
  },
  {
   "cell_type": "code",
   "execution_count": null,
   "id": "e9eb7fd0",
   "metadata": {},
   "outputs": [],
   "source": [
    "#distribution profit of Div 1 & 2 ~N(5+7, 3+4) ~N(12,5)"
   ]
  },
  {
   "cell_type": "code",
   "execution_count": 45,
   "id": "82a67ec0",
   "metadata": {
    "ExecuteTime": {
     "end_time": "2022-01-28T14:16:16.977179Z",
     "start_time": "2022-01-28T14:16:16.959191Z"
    }
   },
   "outputs": [
    {
     "data": {
      "text/plain": [
       "(2.2001800772997306, 21.79981992270027)"
      ]
     },
     "execution_count": 45,
     "metadata": {},
     "output_type": "execute_result"
    }
   ],
   "source": [
    "stats.norm.interval(0.95,12,5)"
   ]
  },
  {
   "cell_type": "code",
   "execution_count": 46,
   "id": "c40d2d5c",
   "metadata": {
    "ExecuteTime": {
     "end_time": "2022-01-28T14:16:23.771927Z",
     "start_time": "2022-01-28T14:16:23.751940Z"
    }
   },
   "outputs": [
    {
     "data": {
      "text/plain": [
       "99.00000000000001"
      ]
     },
     "execution_count": 46,
     "metadata": {},
     "output_type": "execute_result"
    }
   ],
   "source": [
    "2.2*45 "
   ]
  },
  {
   "cell_type": "code",
   "execution_count": 49,
   "id": "7cda621b",
   "metadata": {
    "ExecuteTime": {
     "end_time": "2022-01-28T14:17:08.292236Z",
     "start_time": "2022-01-28T14:17:08.269247Z"
    }
   },
   "outputs": [
    {
     "data": {
      "text/plain": [
       "981.0"
      ]
     },
     "execution_count": 49,
     "metadata": {},
     "output_type": "execute_result"
    }
   ],
   "source": [
    "21.8*45"
   ]
  },
  {
   "cell_type": "code",
   "execution_count": 51,
   "id": "e14b28f7",
   "metadata": {
    "ExecuteTime": {
     "end_time": "2022-01-28T14:20:08.957105Z",
     "start_time": "2022-01-28T14:20:08.938117Z"
    }
   },
   "outputs": [
    {
     "data": {
      "text/plain": [
       "3.7757318652426353"
      ]
     },
     "execution_count": 51,
     "metadata": {},
     "output_type": "execute_result"
    }
   ],
   "source": [
    "#5 percentile of profit\n",
    "\n",
    "stats.norm.ppf(0.05,loc=12,scale=5) "
   ]
  },
  {
   "cell_type": "code",
   "execution_count": 50,
   "id": "26e71aa4",
   "metadata": {
    "ExecuteTime": {
     "end_time": "2022-01-28T14:19:17.657900Z",
     "start_time": "2022-01-28T14:19:17.641910Z"
    }
   },
   "outputs": [
    {
     "data": {
      "text/plain": [
       "170.1"
      ]
     },
     "execution_count": 50,
     "metadata": {},
     "output_type": "execute_result"
    }
   ],
   "source": [
    "3.78*45"
   ]
  },
  {
   "cell_type": "markdown",
   "id": "0891fcec",
   "metadata": {},
   "source": [
    "## SET 3"
   ]
  },
  {
   "cell_type": "code",
   "execution_count": 26,
   "id": "4f38a0ef",
   "metadata": {
    "ExecuteTime": {
     "end_time": "2022-01-26T19:01:25.579854Z",
     "start_time": "2022-01-26T19:01:25.535764Z"
    }
   },
   "outputs": [],
   "source": [
    "import numpy as np"
   ]
  },
  {
   "cell_type": "code",
   "execution_count": 37,
   "id": "405f980d",
   "metadata": {
    "ExecuteTime": {
     "end_time": "2022-01-26T19:17:12.460545Z",
     "start_time": "2022-01-26T19:17:12.438540Z"
    }
   },
   "outputs": [
    {
     "data": {
      "text/plain": [
       "-1.6456162481872627"
      ]
     },
     "execution_count": 37,
     "metadata": {},
     "output_type": "execute_result"
    }
   ],
   "source": [
    "stats.t.ppf(q=0.05,df=1999)"
   ]
  },
  {
   "cell_type": "code",
   "execution_count": 29,
   "id": "4ec15b5a",
   "metadata": {
    "ExecuteTime": {
     "end_time": "2022-01-26T19:02:04.616955Z",
     "start_time": "2022-01-26T19:02:04.577541Z"
    }
   },
   "outputs": [
    {
     "data": {
      "text/plain": [
       "-0.820782681668124"
      ]
     },
     "execution_count": 29,
     "metadata": {},
     "output_type": "execute_result"
    }
   ],
   "source": [
    "(0.046-0.05)/np.sqrt(0.05*(1-0.05)/2000)"
   ]
  },
  {
   "cell_type": "code",
   "execution_count": 36,
   "id": "590648b4",
   "metadata": {
    "ExecuteTime": {
     "end_time": "2022-01-26T19:10:33.620629Z",
     "start_time": "2022-01-26T19:10:33.597642Z"
    }
   },
   "outputs": [
    {
     "data": {
      "text/plain": [
       "-1.6448536269514729"
      ]
     },
     "execution_count": 36,
     "metadata": {},
     "output_type": "execute_result"
    }
   ],
   "source": [
    "stats.norm.ppf(0.05)"
   ]
  },
  {
   "cell_type": "markdown",
   "id": "2b030275",
   "metadata": {},
   "source": [
    "## SET 4"
   ]
  },
  {
   "cell_type": "markdown",
   "id": "dc0b4f6a",
   "metadata": {},
   "source": [
    "## 3.\tAuditors at a small community bank randomly sample 100 withdrawal transactions made during the week at an ATM machine located near the bank’s main branch. Over the past 2 years, the average withdrawal amount has been $50 with a standard deviation of $40. Since audit investigations are typically expensive, the auditors decide to not initiate further investigations if the mean transaction amount of the sample is between $45 and $55. What is the probability that in any given week, there will be an investigation?"
   ]
  },
  {
   "cell_type": "code",
   "execution_count": 1,
   "id": "b10c6d33",
   "metadata": {
    "ExecuteTime": {
     "end_time": "2022-01-26T11:11:19.983863Z",
     "start_time": "2022-01-26T11:11:10.385650Z"
    }
   },
   "outputs": [],
   "source": [
    "from scipy import stats\n",
    "\n",
    "population_mean = 50\n",
    "std_deviation = 40\n",
    "\n"
   ]
  },
  {
   "cell_type": "code",
   "execution_count": 6,
   "id": "70bb1de9",
   "metadata": {
    "ExecuteTime": {
     "end_time": "2022-01-26T11:28:59.908779Z",
     "start_time": "2022-01-26T11:28:59.900778Z"
    }
   },
   "outputs": [
    {
     "data": {
      "text/plain": [
       "-1.25"
      ]
     },
     "execution_count": 6,
     "metadata": {},
     "output_type": "execute_result"
    }
   ],
   "source": [
    "# Z score at x = 45\n",
    "z45 = (45-50)/(40/100**0.5)\n",
    "\n",
    "z45"
   ]
  },
  {
   "cell_type": "code",
   "execution_count": 7,
   "id": "79ed1535",
   "metadata": {
    "ExecuteTime": {
     "end_time": "2022-01-26T11:29:32.321726Z",
     "start_time": "2022-01-26T11:29:32.297723Z"
    }
   },
   "outputs": [
    {
     "data": {
      "text/plain": [
       "1.25"
      ]
     },
     "execution_count": 7,
     "metadata": {},
     "output_type": "execute_result"
    }
   ],
   "source": [
    "# Z score at x = 55\n",
    "z55 = (55-50)/(40/100**0.5)\n",
    "z55"
   ]
  },
  {
   "cell_type": "code",
   "execution_count": 8,
   "id": "e5605957",
   "metadata": {
    "ExecuteTime": {
     "end_time": "2022-01-26T11:42:01.223158Z",
     "start_time": "2022-01-26T11:42:01.199313Z"
    }
   },
   "outputs": [],
   "source": [
    "#probability of mean between  45 and 55\n",
    "P = stats.norm.cdf(z55) - stats.norm.cdf(z45)"
   ]
  },
  {
   "cell_type": "code",
   "execution_count": 9,
   "id": "295997de",
   "metadata": {
    "ExecuteTime": {
     "end_time": "2022-01-26T11:42:02.697067Z",
     "start_time": "2022-01-26T11:42:02.681068Z"
    }
   },
   "outputs": [
    {
     "data": {
      "text/plain": [
       "0.2112995473337107"
      ]
     },
     "execution_count": 9,
     "metadata": {},
     "output_type": "execute_result"
    }
   ],
   "source": [
    "# probability of having an investigation\n",
    "1-P"
   ]
  },
  {
   "cell_type": "markdown",
   "id": "73434158",
   "metadata": {},
   "source": [
    "### 4.\tThe auditors from the above example would like to maintain the probability of investigation to 5%. Which of the following represents the minimum number transactions that they should sample if they do not want to change the thresholds of 45 and 55? Assume that the sample statistics remain unchanged."
   ]
  },
  {
   "cell_type": "markdown",
   "id": "42b15339",
   "metadata": {},
   "source": [
    "Let's sample size = n"
   ]
  },
  {
   "cell_type": "code",
   "execution_count": 11,
   "id": "2cdfe293",
   "metadata": {
    "ExecuteTime": {
     "end_time": "2022-01-26T11:57:59.598418Z",
     "start_time": "2022-01-26T11:57:59.582398Z"
    }
   },
   "outputs": [
    {
     "data": {
      "text/plain": [
       "-1.9599639845400545"
      ]
     },
     "execution_count": 11,
     "metadata": {},
     "output_type": "execute_result"
    }
   ],
   "source": [
    "#probability p = 0.05\n",
    "\n",
    "stats.norm.ppf(0.05/2)"
   ]
  },
  {
   "cell_type": "code",
   "execution_count": 12,
   "id": "5390b048",
   "metadata": {
    "ExecuteTime": {
     "end_time": "2022-01-26T11:58:49.929323Z",
     "start_time": "2022-01-26T11:58:49.905345Z"
    }
   },
   "outputs": [
    {
     "data": {
      "text/plain": [
       "1.959963984540054"
      ]
     },
     "execution_count": 12,
     "metadata": {},
     "output_type": "execute_result"
    }
   ],
   "source": [
    "stats.norm.ppf(1-0.05/2)"
   ]
  },
  {
   "cell_type": "code",
   "execution_count": 20,
   "id": "1106694a",
   "metadata": {
    "ExecuteTime": {
     "end_time": "2022-01-26T12:11:21.291711Z",
     "start_time": "2022-01-26T12:11:21.283707Z"
    }
   },
   "outputs": [],
   "source": [
    "z = 1.96 \n",
    "\n",
    "n = (1.96*8)"
   ]
  },
  {
   "cell_type": "code",
   "execution_count": 21,
   "id": "93d8ce30",
   "metadata": {
    "ExecuteTime": {
     "end_time": "2022-01-26T12:11:22.039610Z",
     "start_time": "2022-01-26T12:11:22.015613Z"
    }
   },
   "outputs": [
    {
     "data": {
      "text/plain": [
       "245.86239999999998"
      ]
     },
     "execution_count": 21,
     "metadata": {},
     "output_type": "execute_result"
    }
   ],
   "source": [
    "n**2"
   ]
  },
  {
   "cell_type": "code",
   "execution_count": null,
   "id": "69a12cee",
   "metadata": {},
   "outputs": [],
   "source": []
  }
 ],
 "metadata": {
  "kernelspec": {
   "display_name": "Python 3 (ipykernel)",
   "language": "python",
   "name": "python3"
  },
  "language_info": {
   "codemirror_mode": {
    "name": "ipython",
    "version": 3
   },
   "file_extension": ".py",
   "mimetype": "text/x-python",
   "name": "python",
   "nbconvert_exporter": "python",
   "pygments_lexer": "ipython3",
   "version": "3.9.7"
  }
 },
 "nbformat": 4,
 "nbformat_minor": 5
}
