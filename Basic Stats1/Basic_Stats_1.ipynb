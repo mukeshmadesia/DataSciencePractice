{
 "cells": [
  {
   "cell_type": "code",
   "execution_count": 1,
   "id": "5f804c61",
   "metadata": {
    "ExecuteTime": {
     "end_time": "2022-01-24T04:28:57.076530Z",
     "start_time": "2022-01-24T04:28:39.031565Z"
    }
   },
   "outputs": [],
   "source": [
    "import pandas as pd"
   ]
  },
  {
   "cell_type": "markdown",
   "id": "7626bebd",
   "metadata": {},
   "source": [
    "**Q7) Calculate Mean, Median, Mode, Variance, Standard Deviation, Range &     comment about the values / draw inferences, for the given dataset\n",
    "-\tFor Points,Score,Weigh>\n",
    "Find Mean, Median, Mode, Variance, Standard Deviation, and Range and also Comment about the values/ Draw some inferences.**\n"
   ]
  },
  {
   "cell_type": "code",
   "execution_count": 2,
   "id": "c304b1a4",
   "metadata": {
    "ExecuteTime": {
     "end_time": "2022-01-23T09:53:56.898099Z",
     "start_time": "2022-01-23T09:53:55.370032Z"
    }
   },
   "outputs": [],
   "source": [
    "data = pd.read_csv('Q7.csv')"
   ]
  },
  {
   "cell_type": "code",
   "execution_count": 3,
   "id": "1d1820e8",
   "metadata": {
    "ExecuteTime": {
     "end_time": "2022-01-23T09:54:18.323605Z",
     "start_time": "2022-01-23T09:54:17.376028Z"
    }
   },
   "outputs": [
    {
     "data": {
      "text/html": [
       "<div>\n",
       "<style scoped>\n",
       "    .dataframe tbody tr th:only-of-type {\n",
       "        vertical-align: middle;\n",
       "    }\n",
       "\n",
       "    .dataframe tbody tr th {\n",
       "        vertical-align: top;\n",
       "    }\n",
       "\n",
       "    .dataframe thead th {\n",
       "        text-align: right;\n",
       "    }\n",
       "</style>\n",
       "<table border=\"1\" class=\"dataframe\">\n",
       "  <thead>\n",
       "    <tr style=\"text-align: right;\">\n",
       "      <th></th>\n",
       "      <th>Unnamed: 0</th>\n",
       "      <th>Points</th>\n",
       "      <th>Score</th>\n",
       "      <th>Weigh</th>\n",
       "    </tr>\n",
       "  </thead>\n",
       "  <tbody>\n",
       "    <tr>\n",
       "      <th>0</th>\n",
       "      <td>Mazda RX4</td>\n",
       "      <td>3.90</td>\n",
       "      <td>2.620</td>\n",
       "      <td>16.46</td>\n",
       "    </tr>\n",
       "    <tr>\n",
       "      <th>1</th>\n",
       "      <td>Mazda RX4 Wag</td>\n",
       "      <td>3.90</td>\n",
       "      <td>2.875</td>\n",
       "      <td>17.02</td>\n",
       "    </tr>\n",
       "    <tr>\n",
       "      <th>2</th>\n",
       "      <td>Datsun 710</td>\n",
       "      <td>3.85</td>\n",
       "      <td>2.320</td>\n",
       "      <td>18.61</td>\n",
       "    </tr>\n",
       "    <tr>\n",
       "      <th>3</th>\n",
       "      <td>Hornet 4 Drive</td>\n",
       "      <td>3.08</td>\n",
       "      <td>3.215</td>\n",
       "      <td>19.44</td>\n",
       "    </tr>\n",
       "    <tr>\n",
       "      <th>4</th>\n",
       "      <td>Hornet Sportabout</td>\n",
       "      <td>3.15</td>\n",
       "      <td>3.440</td>\n",
       "      <td>17.02</td>\n",
       "    </tr>\n",
       "    <tr>\n",
       "      <th>5</th>\n",
       "      <td>Valiant</td>\n",
       "      <td>2.76</td>\n",
       "      <td>3.460</td>\n",
       "      <td>20.22</td>\n",
       "    </tr>\n",
       "    <tr>\n",
       "      <th>6</th>\n",
       "      <td>Duster 360</td>\n",
       "      <td>3.21</td>\n",
       "      <td>3.570</td>\n",
       "      <td>15.84</td>\n",
       "    </tr>\n",
       "    <tr>\n",
       "      <th>7</th>\n",
       "      <td>Merc 240D</td>\n",
       "      <td>3.69</td>\n",
       "      <td>3.190</td>\n",
       "      <td>20.00</td>\n",
       "    </tr>\n",
       "    <tr>\n",
       "      <th>8</th>\n",
       "      <td>Merc 230</td>\n",
       "      <td>3.92</td>\n",
       "      <td>3.150</td>\n",
       "      <td>22.90</td>\n",
       "    </tr>\n",
       "    <tr>\n",
       "      <th>9</th>\n",
       "      <td>Merc 280</td>\n",
       "      <td>3.92</td>\n",
       "      <td>3.440</td>\n",
       "      <td>18.30</td>\n",
       "    </tr>\n",
       "    <tr>\n",
       "      <th>10</th>\n",
       "      <td>Merc 280C</td>\n",
       "      <td>3.92</td>\n",
       "      <td>3.440</td>\n",
       "      <td>18.90</td>\n",
       "    </tr>\n",
       "    <tr>\n",
       "      <th>11</th>\n",
       "      <td>Merc 450SE</td>\n",
       "      <td>3.07</td>\n",
       "      <td>4.070</td>\n",
       "      <td>17.40</td>\n",
       "    </tr>\n",
       "    <tr>\n",
       "      <th>12</th>\n",
       "      <td>Merc 450SL</td>\n",
       "      <td>3.07</td>\n",
       "      <td>3.730</td>\n",
       "      <td>17.60</td>\n",
       "    </tr>\n",
       "    <tr>\n",
       "      <th>13</th>\n",
       "      <td>Merc 450SLC</td>\n",
       "      <td>3.07</td>\n",
       "      <td>3.780</td>\n",
       "      <td>18.00</td>\n",
       "    </tr>\n",
       "    <tr>\n",
       "      <th>14</th>\n",
       "      <td>Cadillac Fleetwood</td>\n",
       "      <td>2.93</td>\n",
       "      <td>5.250</td>\n",
       "      <td>17.98</td>\n",
       "    </tr>\n",
       "    <tr>\n",
       "      <th>15</th>\n",
       "      <td>Lincoln Continental</td>\n",
       "      <td>3.00</td>\n",
       "      <td>5.424</td>\n",
       "      <td>17.82</td>\n",
       "    </tr>\n",
       "    <tr>\n",
       "      <th>16</th>\n",
       "      <td>Chrysler Imperial</td>\n",
       "      <td>3.23</td>\n",
       "      <td>5.345</td>\n",
       "      <td>17.42</td>\n",
       "    </tr>\n",
       "    <tr>\n",
       "      <th>17</th>\n",
       "      <td>Fiat 128</td>\n",
       "      <td>4.08</td>\n",
       "      <td>2.200</td>\n",
       "      <td>19.47</td>\n",
       "    </tr>\n",
       "    <tr>\n",
       "      <th>18</th>\n",
       "      <td>Honda Civic</td>\n",
       "      <td>4.93</td>\n",
       "      <td>1.615</td>\n",
       "      <td>18.52</td>\n",
       "    </tr>\n",
       "    <tr>\n",
       "      <th>19</th>\n",
       "      <td>Toyota Corolla</td>\n",
       "      <td>4.22</td>\n",
       "      <td>1.835</td>\n",
       "      <td>19.90</td>\n",
       "    </tr>\n",
       "    <tr>\n",
       "      <th>20</th>\n",
       "      <td>Toyota Corona</td>\n",
       "      <td>3.70</td>\n",
       "      <td>2.465</td>\n",
       "      <td>20.01</td>\n",
       "    </tr>\n",
       "    <tr>\n",
       "      <th>21</th>\n",
       "      <td>Dodge Challenger</td>\n",
       "      <td>2.76</td>\n",
       "      <td>3.520</td>\n",
       "      <td>16.87</td>\n",
       "    </tr>\n",
       "    <tr>\n",
       "      <th>22</th>\n",
       "      <td>AMC Javelin</td>\n",
       "      <td>3.15</td>\n",
       "      <td>3.435</td>\n",
       "      <td>17.30</td>\n",
       "    </tr>\n",
       "    <tr>\n",
       "      <th>23</th>\n",
       "      <td>Camaro Z28</td>\n",
       "      <td>3.73</td>\n",
       "      <td>3.840</td>\n",
       "      <td>15.41</td>\n",
       "    </tr>\n",
       "    <tr>\n",
       "      <th>24</th>\n",
       "      <td>Pontiac Firebird</td>\n",
       "      <td>3.08</td>\n",
       "      <td>3.845</td>\n",
       "      <td>17.05</td>\n",
       "    </tr>\n",
       "    <tr>\n",
       "      <th>25</th>\n",
       "      <td>Fiat X1-9</td>\n",
       "      <td>4.08</td>\n",
       "      <td>1.935</td>\n",
       "      <td>18.90</td>\n",
       "    </tr>\n",
       "    <tr>\n",
       "      <th>26</th>\n",
       "      <td>Porsche 914-2</td>\n",
       "      <td>4.43</td>\n",
       "      <td>2.140</td>\n",
       "      <td>16.70</td>\n",
       "    </tr>\n",
       "    <tr>\n",
       "      <th>27</th>\n",
       "      <td>Lotus Europa</td>\n",
       "      <td>3.77</td>\n",
       "      <td>1.513</td>\n",
       "      <td>16.90</td>\n",
       "    </tr>\n",
       "    <tr>\n",
       "      <th>28</th>\n",
       "      <td>Ford Pantera L</td>\n",
       "      <td>4.22</td>\n",
       "      <td>3.170</td>\n",
       "      <td>14.50</td>\n",
       "    </tr>\n",
       "    <tr>\n",
       "      <th>29</th>\n",
       "      <td>Ferrari Dino</td>\n",
       "      <td>3.62</td>\n",
       "      <td>2.770</td>\n",
       "      <td>15.50</td>\n",
       "    </tr>\n",
       "    <tr>\n",
       "      <th>30</th>\n",
       "      <td>Maserati Bora</td>\n",
       "      <td>3.54</td>\n",
       "      <td>3.570</td>\n",
       "      <td>14.60</td>\n",
       "    </tr>\n",
       "    <tr>\n",
       "      <th>31</th>\n",
       "      <td>Volvo 142E</td>\n",
       "      <td>4.11</td>\n",
       "      <td>2.780</td>\n",
       "      <td>18.60</td>\n",
       "    </tr>\n",
       "  </tbody>\n",
       "</table>\n",
       "</div>"
      ],
      "text/plain": [
       "             Unnamed: 0  Points  Score  Weigh\n",
       "0             Mazda RX4    3.90  2.620  16.46\n",
       "1         Mazda RX4 Wag    3.90  2.875  17.02\n",
       "2            Datsun 710    3.85  2.320  18.61\n",
       "3        Hornet 4 Drive    3.08  3.215  19.44\n",
       "4     Hornet Sportabout    3.15  3.440  17.02\n",
       "5               Valiant    2.76  3.460  20.22\n",
       "6            Duster 360    3.21  3.570  15.84\n",
       "7             Merc 240D    3.69  3.190  20.00\n",
       "8              Merc 230    3.92  3.150  22.90\n",
       "9              Merc 280    3.92  3.440  18.30\n",
       "10            Merc 280C    3.92  3.440  18.90\n",
       "11           Merc 450SE    3.07  4.070  17.40\n",
       "12           Merc 450SL    3.07  3.730  17.60\n",
       "13          Merc 450SLC    3.07  3.780  18.00\n",
       "14   Cadillac Fleetwood    2.93  5.250  17.98\n",
       "15  Lincoln Continental    3.00  5.424  17.82\n",
       "16    Chrysler Imperial    3.23  5.345  17.42\n",
       "17             Fiat 128    4.08  2.200  19.47\n",
       "18          Honda Civic    4.93  1.615  18.52\n",
       "19       Toyota Corolla    4.22  1.835  19.90\n",
       "20        Toyota Corona    3.70  2.465  20.01\n",
       "21     Dodge Challenger    2.76  3.520  16.87\n",
       "22          AMC Javelin    3.15  3.435  17.30\n",
       "23           Camaro Z28    3.73  3.840  15.41\n",
       "24     Pontiac Firebird    3.08  3.845  17.05\n",
       "25            Fiat X1-9    4.08  1.935  18.90\n",
       "26        Porsche 914-2    4.43  2.140  16.70\n",
       "27         Lotus Europa    3.77  1.513  16.90\n",
       "28       Ford Pantera L    4.22  3.170  14.50\n",
       "29         Ferrari Dino    3.62  2.770  15.50\n",
       "30        Maserati Bora    3.54  3.570  14.60\n",
       "31           Volvo 142E    4.11  2.780  18.60"
      ]
     },
     "execution_count": 3,
     "metadata": {},
     "output_type": "execute_result"
    }
   ],
   "source": [
    "data"
   ]
  },
  {
   "cell_type": "code",
   "execution_count": 4,
   "id": "23a59808",
   "metadata": {
    "ExecuteTime": {
     "end_time": "2022-01-23T09:55:11.014894Z",
     "start_time": "2022-01-23T09:55:10.538735Z"
    }
   },
   "outputs": [
    {
     "data": {
      "text/html": [
       "<div>\n",
       "<style scoped>\n",
       "    .dataframe tbody tr th:only-of-type {\n",
       "        vertical-align: middle;\n",
       "    }\n",
       "\n",
       "    .dataframe tbody tr th {\n",
       "        vertical-align: top;\n",
       "    }\n",
       "\n",
       "    .dataframe thead th {\n",
       "        text-align: right;\n",
       "    }\n",
       "</style>\n",
       "<table border=\"1\" class=\"dataframe\">\n",
       "  <thead>\n",
       "    <tr style=\"text-align: right;\">\n",
       "      <th></th>\n",
       "      <th>Points</th>\n",
       "      <th>Score</th>\n",
       "      <th>Weigh</th>\n",
       "    </tr>\n",
       "  </thead>\n",
       "  <tbody>\n",
       "    <tr>\n",
       "      <th>count</th>\n",
       "      <td>32.000000</td>\n",
       "      <td>32.000000</td>\n",
       "      <td>32.000000</td>\n",
       "    </tr>\n",
       "    <tr>\n",
       "      <th>mean</th>\n",
       "      <td>3.596563</td>\n",
       "      <td>3.217250</td>\n",
       "      <td>17.848750</td>\n",
       "    </tr>\n",
       "    <tr>\n",
       "      <th>std</th>\n",
       "      <td>0.534679</td>\n",
       "      <td>0.978457</td>\n",
       "      <td>1.786943</td>\n",
       "    </tr>\n",
       "    <tr>\n",
       "      <th>min</th>\n",
       "      <td>2.760000</td>\n",
       "      <td>1.513000</td>\n",
       "      <td>14.500000</td>\n",
       "    </tr>\n",
       "    <tr>\n",
       "      <th>25%</th>\n",
       "      <td>3.080000</td>\n",
       "      <td>2.581250</td>\n",
       "      <td>16.892500</td>\n",
       "    </tr>\n",
       "    <tr>\n",
       "      <th>50%</th>\n",
       "      <td>3.695000</td>\n",
       "      <td>3.325000</td>\n",
       "      <td>17.710000</td>\n",
       "    </tr>\n",
       "    <tr>\n",
       "      <th>75%</th>\n",
       "      <td>3.920000</td>\n",
       "      <td>3.610000</td>\n",
       "      <td>18.900000</td>\n",
       "    </tr>\n",
       "    <tr>\n",
       "      <th>max</th>\n",
       "      <td>4.930000</td>\n",
       "      <td>5.424000</td>\n",
       "      <td>22.900000</td>\n",
       "    </tr>\n",
       "  </tbody>\n",
       "</table>\n",
       "</div>"
      ],
      "text/plain": [
       "          Points      Score      Weigh\n",
       "count  32.000000  32.000000  32.000000\n",
       "mean    3.596563   3.217250  17.848750\n",
       "std     0.534679   0.978457   1.786943\n",
       "min     2.760000   1.513000  14.500000\n",
       "25%     3.080000   2.581250  16.892500\n",
       "50%     3.695000   3.325000  17.710000\n",
       "75%     3.920000   3.610000  18.900000\n",
       "max     4.930000   5.424000  22.900000"
      ]
     },
     "execution_count": 4,
     "metadata": {},
     "output_type": "execute_result"
    }
   ],
   "source": [
    "data.describe()"
   ]
  },
  {
   "cell_type": "code",
   "execution_count": 6,
   "id": "24db8c15",
   "metadata": {
    "ExecuteTime": {
     "end_time": "2022-01-24T04:50:57.735040Z",
     "start_time": "2022-01-24T04:50:57.480791Z"
    }
   },
   "outputs": [],
   "source": [
    "import statistics"
   ]
  },
  {
   "cell_type": "code",
   "execution_count": 12,
   "id": "81cf6a0a",
   "metadata": {
    "ExecuteTime": {
     "end_time": "2022-01-23T10:02:47.464273Z",
     "start_time": "2022-01-23T10:02:47.440274Z"
    }
   },
   "outputs": [
    {
     "name": "stdout",
     "output_type": "stream",
     "text": [
      "Mean of Points: 3.5965625\n",
      "Mean of Score: 3.21725\n",
      "Mean of Weigh: 17.84875\n"
     ]
    }
   ],
   "source": [
    "print('Mean of Points:', statistics.mean(data['Points']))\n",
    "print('Mean of Score:', statistics.mean(data['Score']))\n",
    "print('Mean of Weigh:', statistics.mean(data['Weigh']))"
   ]
  },
  {
   "cell_type": "code",
   "execution_count": 13,
   "id": "f7ffccac",
   "metadata": {
    "ExecuteTime": {
     "end_time": "2022-01-23T10:03:22.974232Z",
     "start_time": "2022-01-23T10:03:22.958233Z"
    }
   },
   "outputs": [
    {
     "name": "stdout",
     "output_type": "stream",
     "text": [
      "Median of Points: 3.6950000000000003\n",
      "Median of Score: 3.325\n",
      "Median of Weigh: 17.71\n"
     ]
    }
   ],
   "source": [
    "print('Median of Points:', statistics.median(data['Points']))\n",
    "print('Median of Score:', statistics.median(data['Score']))\n",
    "print('Median of Weigh:', statistics.median(data['Weigh']))"
   ]
  },
  {
   "cell_type": "code",
   "execution_count": 15,
   "id": "ecc367e3",
   "metadata": {
    "ExecuteTime": {
     "end_time": "2022-01-23T10:11:12.339671Z",
     "start_time": "2022-01-23T10:11:10.785152Z"
    }
   },
   "outputs": [
    {
     "name": "stdout",
     "output_type": "stream",
     "text": [
      "Mode of Points: 3.92\n",
      "Mode of Score: 3.44\n",
      "Mode of Weigh: 17.02\n"
     ]
    }
   ],
   "source": [
    "print('Mode of Points:', statistics.mode(data['Points']))\n",
    "print('Mode of Score:', statistics.mode(data['Score']))\n",
    "print('Mode of Weigh:', statistics.mode(data['Weigh']))"
   ]
  },
  {
   "cell_type": "code",
   "execution_count": 22,
   "id": "e69c4699",
   "metadata": {
    "ExecuteTime": {
     "end_time": "2022-01-23T10:28:45.756732Z",
     "start_time": "2022-01-23T10:28:45.736726Z"
    }
   },
   "outputs": [
    {
     "name": "stdout",
     "output_type": "stream",
     "text": [
      "Range of Points: 2.76 - 4.93\n",
      "Range of Score: 1.513 - 5.424\n",
      "Range of Weigh: 14.5 - 22.9\n"
     ]
    }
   ],
   "source": [
    "print ('Range of Points:', min(data['Points']),'-' ,max(data['Points']))\n",
    "print ('Range of Score:', min(data['Score']),'-' ,max(data['Score']))\n",
    "print ('Range of Weigh:', min(data['Weigh']),'-' ,max(data['Weigh']))"
   ]
  },
  {
   "cell_type": "code",
   "execution_count": 25,
   "id": "4a5b084b",
   "metadata": {
    "ExecuteTime": {
     "end_time": "2022-01-23T10:33:11.493071Z",
     "start_time": "2022-01-23T10:33:11.477080Z"
    }
   },
   "outputs": [
    {
     "name": "stdout",
     "output_type": "stream",
     "text": [
      "Std Deviation of Points: 0.5347\n",
      "Std Deviation of Score: 0.9785\n",
      "Std Deviation of Weigh: 1.7869\n"
     ]
    }
   ],
   "source": [
    "print('Std Deviation of Points:', round(statistics.stdev(data['Points']),4))\n",
    "print('Std Deviation of Score:', round(statistics.stdev(data['Score']),4))\n",
    "print('Std Deviation of Weigh:', round(statistics.stdev(data['Weigh']),4))\n"
   ]
  },
  {
   "cell_type": "code",
   "execution_count": 27,
   "id": "3898fa00",
   "metadata": {
    "ExecuteTime": {
     "end_time": "2022-01-23T10:34:07.036695Z",
     "start_time": "2022-01-23T10:34:07.008693Z"
    }
   },
   "outputs": [
    {
     "name": "stdout",
     "output_type": "stream",
     "text": [
      "Variance of Points: 0.2859\n",
      "Variance of Score: 0.9574\n",
      "Variance of Weigh: 3.1932\n"
     ]
    }
   ],
   "source": [
    "print('Variance of Points:', round(statistics.variance(data['Points']),4))\n",
    "print('Variance of Score:', round(statistics.variance(data['Score']),4))\n",
    "print('Variance of Weigh:', round(statistics.variance(data['Weigh']),4))\n"
   ]
  },
  {
   "cell_type": "code",
   "execution_count": 34,
   "id": "cc570aa0",
   "metadata": {
    "ExecuteTime": {
     "end_time": "2022-01-23T11:17:42.749923Z",
     "start_time": "2022-01-23T11:17:42.734275Z"
    }
   },
   "outputs": [],
   "source": [
    "import seaborn as sns \n",
    "import warnings\n",
    "warnings.filterwarnings('ignore')"
   ]
  },
  {
   "cell_type": "code",
   "execution_count": 40,
   "id": "e5b2f68e",
   "metadata": {
    "ExecuteTime": {
     "end_time": "2022-01-23T11:19:13.919230Z",
     "start_time": "2022-01-23T11:19:13.608547Z"
    }
   },
   "outputs": [
    {
     "data": {
      "text/plain": [
       "<AxesSubplot:xlabel='Weigh', ylabel='Density'>"
      ]
     },
     "execution_count": 40,
     "metadata": {},
     "output_type": "execute_result"
    },
    {
     "data": {
      "image/png": "[encoded data removed]",
      "text/plain": [
       "<Figure size 432x288 with 1 Axes>"
      ]
     },
     "metadata": {
      "needs_background": "light"
     },
     "output_type": "display_data"
    }
   ],
   "source": [
    "sns.distplot(data['Points'],hist=False)\n",
    "sns.distplot(data['Score'],hist=False)\n",
    "sns.distplot(data['Weigh'],hist=False)\n",
    "#plt.show()"
   ]
  },
  {
   "cell_type": "markdown",
   "id": "35c43442",
   "metadata": {},
   "source": [
    "#### Q9) Calculate Skewness, Kurtosis & draw inferences on the following data\n",
    "      Cars speed and distance "
   ]
  },
  {
   "cell_type": "code",
   "execution_count": 41,
   "id": "6b5e562e",
   "metadata": {
    "ExecuteTime": {
     "end_time": "2022-01-23T11:29:43.431582Z",
     "start_time": "2022-01-23T11:29:43.103778Z"
    }
   },
   "outputs": [],
   "source": [
    "Q9_a = pd.read_csv('Q9_a.csv')"
   ]
  },
  {
   "cell_type": "markdown",
   "id": "af34edf5",
   "metadata": {},
   "source": [
    "If the skewness is between -0.5 & 0.5, the data are nearly symmetrical.\n",
    "\n",
    "If the skewness is between -1 & -0.5 (negative skewed) or between 0.5 & 1(positive skewed), the data are slightly skewed.\n",
    "\n",
    "If the skewness is lower than -1 (negative skewed) or greater than 1 (positive skewed), the data are extremely skewed."
   ]
  },
  {
   "cell_type": "code",
   "execution_count": 42,
   "id": "9a80dc16",
   "metadata": {
    "ExecuteTime": {
     "end_time": "2022-01-23T11:48:14.975826Z",
     "start_time": "2022-01-23T11:48:14.791930Z"
    }
   },
   "outputs": [
    {
     "data": {
      "text/plain": [
       "Index    0.000000\n",
       "speed   -0.117510\n",
       "dist     0.806895\n",
       "dtype: float64"
      ]
     },
     "execution_count": 42,
     "metadata": {},
     "output_type": "execute_result"
    }
   ],
   "source": [
    "Q9_a.skew()"
   ]
  },
  {
   "cell_type": "code",
   "execution_count": 43,
   "id": "c92580e4",
   "metadata": {
    "ExecuteTime": {
     "end_time": "2022-01-23T11:48:36.690277Z",
     "start_time": "2022-01-23T11:48:36.646282Z"
    }
   },
   "outputs": [
    {
     "data": {
      "text/html": [
       "<div>\n",
       "<style scoped>\n",
       "    .dataframe tbody tr th:only-of-type {\n",
       "        vertical-align: middle;\n",
       "    }\n",
       "\n",
       "    .dataframe tbody tr th {\n",
       "        vertical-align: top;\n",
       "    }\n",
       "\n",
       "    .dataframe thead th {\n",
       "        text-align: right;\n",
       "    }\n",
       "</style>\n",
       "<table border=\"1\" class=\"dataframe\">\n",
       "  <thead>\n",
       "    <tr style=\"text-align: right;\">\n",
       "      <th></th>\n",
       "      <th>Index</th>\n",
       "      <th>speed</th>\n",
       "      <th>dist</th>\n",
       "    </tr>\n",
       "  </thead>\n",
       "  <tbody>\n",
       "    <tr>\n",
       "      <th>0</th>\n",
       "      <td>1</td>\n",
       "      <td>4</td>\n",
       "      <td>2</td>\n",
       "    </tr>\n",
       "    <tr>\n",
       "      <th>1</th>\n",
       "      <td>2</td>\n",
       "      <td>4</td>\n",
       "      <td>10</td>\n",
       "    </tr>\n",
       "    <tr>\n",
       "      <th>2</th>\n",
       "      <td>3</td>\n",
       "      <td>7</td>\n",
       "      <td>4</td>\n",
       "    </tr>\n",
       "    <tr>\n",
       "      <th>3</th>\n",
       "      <td>4</td>\n",
       "      <td>7</td>\n",
       "      <td>22</td>\n",
       "    </tr>\n",
       "    <tr>\n",
       "      <th>4</th>\n",
       "      <td>5</td>\n",
       "      <td>8</td>\n",
       "      <td>16</td>\n",
       "    </tr>\n",
       "  </tbody>\n",
       "</table>\n",
       "</div>"
      ],
      "text/plain": [
       "   Index  speed  dist\n",
       "0      1      4     2\n",
       "1      2      4    10\n",
       "2      3      7     4\n",
       "3      4      7    22\n",
       "4      5      8    16"
      ]
     },
     "execution_count": 43,
     "metadata": {},
     "output_type": "execute_result"
    }
   ],
   "source": [
    "Q9_a.head()"
   ]
  },
  {
   "cell_type": "code",
   "execution_count": 44,
   "id": "ee998f2e",
   "metadata": {
    "ExecuteTime": {
     "end_time": "2022-01-23T11:52:18.821824Z",
     "start_time": "2022-01-23T11:52:18.810828Z"
    }
   },
   "outputs": [
    {
     "data": {
      "text/plain": [
       "Index   -1.200000\n",
       "speed   -0.508994\n",
       "dist     0.405053\n",
       "dtype: float64"
      ]
     },
     "execution_count": 44,
     "metadata": {},
     "output_type": "execute_result"
    }
   ],
   "source": [
    "Q9_a.kurtosis()"
   ]
  },
  {
   "cell_type": "code",
   "execution_count": 47,
   "id": "de5f0b3f",
   "metadata": {
    "ExecuteTime": {
     "end_time": "2022-01-23T11:59:27.445863Z",
     "start_time": "2022-01-23T11:59:26.733600Z"
    }
   },
   "outputs": [
    {
     "data": {
      "text/plain": [
       "<seaborn.axisgrid.FacetGrid at 0x1fb3606c670>"
      ]
     },
     "execution_count": 47,
     "metadata": {},
     "output_type": "execute_result"
    },
    {
     "data": {
      "image/png": "[encoded data removed]",
      "text/plain": [
       "<Figure size 360x360 with 1 Axes>"
      ]
     },
     "metadata": {
      "needs_background": "light"
     },
     "output_type": "display_data"
    },
    {
     "data": {
      "image/png": "[encoded data removed]",
      "text/plain": [
       "<Figure size 360x360 with 1 Axes>"
      ]
     },
     "metadata": {
      "needs_background": "light"
     },
     "output_type": "display_data"
    }
   ],
   "source": [
    "sns.displot(data=Q9_a['speed'],kind='kde')\n",
    "sns.displot(data=Q9_a['dist'],kind='kde')"
   ]
  },
  {
   "cell_type": "code",
   "execution_count": 51,
   "id": "eb253d56",
   "metadata": {
    "ExecuteTime": {
     "end_time": "2022-01-23T12:01:40.773886Z",
     "start_time": "2022-01-23T12:01:40.493945Z"
    }
   },
   "outputs": [
    {
     "data": {
      "text/plain": [
       "<AxesSubplot:xlabel='dist', ylabel='Density'>"
      ]
     },
     "execution_count": 51,
     "metadata": {},
     "output_type": "execute_result"
    },
    {
     "data": {
      "image/png": "[encoded data removed]",
      "text/plain": [
       "<Figure size 432x288 with 1 Axes>"
      ]
     },
     "metadata": {
      "needs_background": "light"
     },
     "output_type": "display_data"
    }
   ],
   "source": [
    "sns.distplot(Q9_a['speed'],hist=False,color='blue')\n",
    "sns.distplot(Q9_a['dist'],hist=False,color='red')"
   ]
  },
  {
   "cell_type": "code",
   "execution_count": 85,
   "id": "148c12e6",
   "metadata": {
    "ExecuteTime": {
     "end_time": "2022-01-23T19:00:05.040248Z",
     "start_time": "2022-01-23T19:00:04.805329Z"
    }
   },
   "outputs": [
    {
     "data": {
      "text/plain": [
       "<AxesSubplot:ylabel='speed'>"
      ]
     },
     "execution_count": 85,
     "metadata": {},
     "output_type": "execute_result"
    },
    {
     "data": {
      "image/png": "[encoded data removed]",
      "text/plain": [
       "<Figure size 432x288 with 1 Axes>"
      ]
     },
     "metadata": {
      "needs_background": "light"
     },
     "output_type": "display_data"
    }
   ],
   "source": [
    "sns.boxplot(y= Q9_a['speed'],orient='v')\n",
    "\n",
    "#sns.boxplot(y=Q9_a['dist'],orient='v')"
   ]
  },
  {
   "cell_type": "code",
   "execution_count": 86,
   "id": "714fe776",
   "metadata": {
    "ExecuteTime": {
     "end_time": "2022-01-23T19:06:00.839685Z",
     "start_time": "2022-01-23T19:06:00.617017Z"
    }
   },
   "outputs": [
    {
     "data": {
      "text/plain": [
       "<AxesSubplot:ylabel='dist'>"
      ]
     },
     "execution_count": 86,
     "metadata": {},
     "output_type": "execute_result"
    },
    {
     "data": {
      "image/png": "[encoded data removed]",
      "text/plain": [
       "<Figure size 432x288 with 1 Axes>"
      ]
     },
     "metadata": {
      "needs_background": "light"
     },
     "output_type": "display_data"
    }
   ],
   "source": [
    "#sns.boxplot(y= Q9_a['speed'],orient='v')\n",
    "\n",
    "sns.boxplot(y=Q9_a['dist'],orient='v')"
   ]
  },
  {
   "cell_type": "code",
   "execution_count": 52,
   "id": "d4f87d1d",
   "metadata": {
    "ExecuteTime": {
     "end_time": "2022-01-23T12:05:10.695794Z",
     "start_time": "2022-01-23T12:05:10.366612Z"
    }
   },
   "outputs": [],
   "source": [
    "Q9_b = pd.read_csv('Q9_b.csv')"
   ]
  },
  {
   "cell_type": "code",
   "execution_count": 54,
   "id": "9799a2ac",
   "metadata": {
    "ExecuteTime": {
     "end_time": "2022-01-23T12:17:50.418722Z",
     "start_time": "2022-01-23T12:17:50.340837Z"
    }
   },
   "outputs": [
    {
     "data": {
      "text/plain": [
       "Unnamed: 0    0.000000\n",
       "SP            1.611450\n",
       "WT           -0.614753\n",
       "dtype: float64"
      ]
     },
     "execution_count": 54,
     "metadata": {},
     "output_type": "execute_result"
    }
   ],
   "source": [
    "Q9_b.skew()"
   ]
  },
  {
   "cell_type": "code",
   "execution_count": 56,
   "id": "249d3975",
   "metadata": {
    "ExecuteTime": {
     "end_time": "2022-01-23T12:18:14.981895Z",
     "start_time": "2022-01-23T12:18:14.960918Z"
    }
   },
   "outputs": [
    {
     "data": {
      "text/plain": [
       "Unnamed: 0   -1.200000\n",
       "SP            2.977329\n",
       "WT            0.950291\n",
       "dtype: float64"
      ]
     },
     "execution_count": 56,
     "metadata": {},
     "output_type": "execute_result"
    }
   ],
   "source": [
    "Q9_b.kurtosis()"
   ]
  },
  {
   "cell_type": "code",
   "execution_count": 58,
   "id": "a302673c",
   "metadata": {
    "ExecuteTime": {
     "end_time": "2022-01-23T12:50:29.520156Z",
     "start_time": "2022-01-23T12:50:29.513177Z"
    }
   },
   "outputs": [],
   "source": [
    "a = [108, 110, 123, 134, 135, 145, 167, 187, 199]"
   ]
  },
  {
   "cell_type": "code",
   "execution_count": 60,
   "id": "f5253592",
   "metadata": {
    "ExecuteTime": {
     "end_time": "2022-01-23T12:51:54.425875Z",
     "start_time": "2022-01-23T12:51:54.405891Z"
    }
   },
   "outputs": [
    {
     "data": {
      "text/plain": [
       "145.33333333333334"
      ]
     },
     "execution_count": 60,
     "metadata": {},
     "output_type": "execute_result"
    }
   ],
   "source": [
    "sum(a)/len(a)"
   ]
  },
  {
   "cell_type": "code",
   "execution_count": 61,
   "id": "8d819580",
   "metadata": {
    "ExecuteTime": {
     "end_time": "2022-01-23T12:52:04.497109Z",
     "start_time": "2022-01-23T12:52:04.475118Z"
    }
   },
   "outputs": [
    {
     "data": {
      "text/plain": [
       "9"
      ]
     },
     "execution_count": 61,
     "metadata": {},
     "output_type": "execute_result"
    }
   ],
   "source": [
    "len(a)"
   ]
  },
  {
   "cell_type": "code",
   "execution_count": 63,
   "id": "d3a179f1",
   "metadata": {
    "ExecuteTime": {
     "end_time": "2022-01-23T12:53:13.614984Z",
     "start_time": "2022-01-23T12:53:13.593000Z"
    }
   },
   "outputs": [
    {
     "data": {
      "text/plain": [
       "135"
      ]
     },
     "execution_count": 63,
     "metadata": {},
     "output_type": "execute_result"
    }
   ],
   "source": [
    "statistics.median(a)"
   ]
  },
  {
   "cell_type": "markdown",
   "id": "1d76eb2f",
   "metadata": {},
   "source": [
    "#### Q11)  Suppose we want to estimate the average weight of an adult male in    Mexico. We draw a random sample of 2,000 men from a population of 3,000,000 men and weigh them. We find that the average person in our sample weighs 200 pounds, and the standard deviation of the sample is 30 pounds. Calculate 94%,98%,96% confidence interval?"
   ]
  },
  {
   "cell_type": "markdown",
   "id": "08f4de22",
   "metadata": {
    "ExecuteTime": {
     "end_time": "2022-01-23T18:08:00.566365Z",
     "start_time": "2022-01-23T18:08:00.181190Z"
    }
   },
   "source": [
    "**Sample Mean = 200\n",
    "Standard Deviation of Sample = 30**\n",
    "\n",
    "Confidence Interval For  Confidence Level = 94%,98%,96% "
   ]
  },
  {
   "cell_type": "code",
   "execution_count": 65,
   "id": "3c8777dd",
   "metadata": {
    "ExecuteTime": {
     "end_time": "2022-01-23T18:09:17.543582Z",
     "start_time": "2022-01-23T18:09:17.405366Z"
    }
   },
   "outputs": [],
   "source": [
    "from scipy import stats"
   ]
  },
  {
   "cell_type": "code",
   "execution_count": 66,
   "id": "4e3a33c2",
   "metadata": {
    "ExecuteTime": {
     "end_time": "2022-01-23T18:09:52.103450Z",
     "start_time": "2022-01-23T18:09:51.303579Z"
    }
   },
   "outputs": [
    {
     "data": {
      "text/plain": [
       "1.6003529445653557"
      ]
     },
     "execution_count": 66,
     "metadata": {},
     "output_type": "execute_result"
    }
   ],
   "source": [
    "stats.t.ppf(0.94,30)"
   ]
  },
  {
   "cell_type": "code",
   "execution_count": 73,
   "id": "7066fe85",
   "metadata": {
    "ExecuteTime": {
     "end_time": "2022-01-23T18:18:09.078125Z",
     "start_time": "2022-01-23T18:18:09.045146Z"
    }
   },
   "outputs": [
    {
     "data": {
      "text/plain": [
       "151.98941166303933"
      ]
     },
     "execution_count": 73,
     "metadata": {},
     "output_type": "execute_result"
    }
   ],
   "source": [
    "200 - 30*stats.t.ppf(0.94,30)"
   ]
  },
  {
   "cell_type": "code",
   "execution_count": 67,
   "id": "57624bb6",
   "metadata": {
    "ExecuteTime": {
     "end_time": "2022-01-23T18:10:12.997659Z",
     "start_time": "2022-01-23T18:10:12.985670Z"
    }
   },
   "outputs": [
    {
     "data": {
      "text/plain": [
       "2.1469662790897917"
      ]
     },
     "execution_count": 67,
     "metadata": {},
     "output_type": "execute_result"
    }
   ],
   "source": [
    "stats.t.ppf(0.98,30)"
   ]
  },
  {
   "cell_type": "code",
   "execution_count": 68,
   "id": "40f06bbf",
   "metadata": {
    "ExecuteTime": {
     "end_time": "2022-01-23T18:10:32.507729Z",
     "start_time": "2022-01-23T18:10:32.498732Z"
    }
   },
   "outputs": [
    {
     "data": {
      "text/plain": [
       "1.8120471079011007"
      ]
     },
     "execution_count": 68,
     "metadata": {},
     "output_type": "execute_result"
    }
   ],
   "source": [
    "stats.t.ppf(0.96,30)"
   ]
  },
  {
   "cell_type": "code",
   "execution_count": 69,
   "id": "abbe1871",
   "metadata": {
    "ExecuteTime": {
     "end_time": "2022-01-23T18:14:58.504724Z",
     "start_time": "2022-01-23T18:14:58.360834Z"
    }
   },
   "outputs": [
    {
     "data": {
      "text/plain": [
       "(143.57619175546247, 256.42380824453755)"
      ]
     },
     "execution_count": 69,
     "metadata": {},
     "output_type": "execute_result"
    }
   ],
   "source": [
    "stats.norm.interval(0.94,\n",
    "                   loc=200,\n",
    "                   scale=30)"
   ]
  },
  {
   "cell_type": "code",
   "execution_count": 71,
   "id": "6cecc9b1",
   "metadata": {
    "ExecuteTime": {
     "end_time": "2022-01-23T18:16:48.789181Z",
     "start_time": "2022-01-23T18:16:48.776193Z"
    }
   },
   "outputs": [
    {
     "data": {
      "text/plain": [
       "(138.38753268104531, 261.61246731895466)"
      ]
     },
     "execution_count": 71,
     "metadata": {},
     "output_type": "execute_result"
    }
   ],
   "source": [
    "stats.norm.interval(0.96,\n",
    "                   loc=200,\n",
    "                   scale=30)"
   ]
  },
  {
   "cell_type": "code",
   "execution_count": 72,
   "id": "5e6f7d87",
   "metadata": {
    "ExecuteTime": {
     "end_time": "2022-01-23T18:16:54.562171Z",
     "start_time": "2022-01-23T18:16:54.545179Z"
    }
   },
   "outputs": [
    {
     "data": {
      "text/plain": [
       "(130.2095637787748, 269.7904362212252)"
      ]
     },
     "execution_count": 72,
     "metadata": {},
     "output_type": "execute_result"
    }
   ],
   "source": [
    "stats.norm.interval(0.98,\n",
    "                   loc=200,\n",
    "                   scale=30)"
   ]
  },
  {
   "cell_type": "code",
   "execution_count": 74,
   "id": "5f4c1ce1",
   "metadata": {
    "ExecuteTime": {
     "end_time": "2022-01-23T18:24:37.388867Z",
     "start_time": "2022-01-23T18:24:37.364883Z"
    }
   },
   "outputs": [
    {
     "data": {
      "text/plain": [
       "(170.7765836882207, 229.22341631177926)"
      ]
     },
     "execution_count": 74,
     "metadata": {},
     "output_type": "execute_result"
    }
   ],
   "source": [
    "stats.norm.interval(0.67,\n",
    "                   loc=200,\n",
    "                   scale=30)"
   ]
  },
  {
   "cell_type": "markdown",
   "id": "e105d831",
   "metadata": {},
   "source": [
    "#### Q12)  Below are the scores obtained by a student in tests \n",
    "34,36,36,38,38,39,39,40,40,41,41,41,41,42,42,45,49,56\n",
    "1)\tFind mean, median, variance, standard deviation.\n",
    "2)\tWhat can we say about the student marks? \n"
   ]
  },
  {
   "cell_type": "code",
   "execution_count": 11,
   "id": "8cf5a749",
   "metadata": {
    "ExecuteTime": {
     "end_time": "2022-01-25T14:40:18.998281Z",
     "start_time": "2022-01-25T14:40:18.950288Z"
    }
   },
   "outputs": [],
   "source": [
    "import numpy as np\n",
    "a = np.array([34,36,36,38,38,39,39,40,40,41,41,41,41,42,42,45,49,56])"
   ]
  },
  {
   "cell_type": "code",
   "execution_count": 17,
   "id": "82f8c2b1",
   "metadata": {
    "ExecuteTime": {
     "end_time": "2022-01-25T14:43:35.315737Z",
     "start_time": "2022-01-25T14:43:35.251719Z"
    }
   },
   "outputs": [
    {
     "name": "stdout",
     "output_type": "stream",
     "text": [
      "Mean: 41.0\n",
      "Median: 40.5\n",
      "Variance: 24.11111111111111\n",
      "Std deviation: 4.910306620885412\n"
     ]
    }
   ],
   "source": [
    "print('Mean:',a.mean())\n",
    "print('Median:',np.median(a))\n",
    "print('Variance:',a.var())\n",
    "print('Std deviation:',a.std())"
   ]
  },
  {
   "cell_type": "markdown",
   "id": "9469cbf0",
   "metadata": {},
   "source": [
    "### Question 20"
   ]
  },
  {
   "cell_type": "code",
   "execution_count": 3,
   "id": "a64e4f23",
   "metadata": {
    "ExecuteTime": {
     "end_time": "2022-01-24T04:29:34.969227Z",
     "start_time": "2022-01-24T04:29:34.581356Z"
    }
   },
   "outputs": [],
   "source": [
    "cars = pd.read_csv('Cars.csv')"
   ]
  },
  {
   "cell_type": "code",
   "execution_count": 4,
   "id": "5fccf087",
   "metadata": {
    "ExecuteTime": {
     "end_time": "2022-01-24T04:29:40.987370Z",
     "start_time": "2022-01-24T04:29:40.647880Z"
    }
   },
   "outputs": [
    {
     "data": {
      "text/html": [
       "<div>\n",
       "<style scoped>\n",
       "    .dataframe tbody tr th:only-of-type {\n",
       "        vertical-align: middle;\n",
       "    }\n",
       "\n",
       "    .dataframe tbody tr th {\n",
       "        vertical-align: top;\n",
       "    }\n",
       "\n",
       "    .dataframe thead th {\n",
       "        text-align: right;\n",
       "    }\n",
       "</style>\n",
       "<table border=\"1\" class=\"dataframe\">\n",
       "  <thead>\n",
       "    <tr style=\"text-align: right;\">\n",
       "      <th></th>\n",
       "      <th>HP</th>\n",
       "      <th>MPG</th>\n",
       "      <th>VOL</th>\n",
       "      <th>SP</th>\n",
       "      <th>WT</th>\n",
       "    </tr>\n",
       "  </thead>\n",
       "  <tbody>\n",
       "    <tr>\n",
       "      <th>0</th>\n",
       "      <td>49</td>\n",
       "      <td>53.700681</td>\n",
       "      <td>89</td>\n",
       "      <td>104.185353</td>\n",
       "      <td>28.762059</td>\n",
       "    </tr>\n",
       "    <tr>\n",
       "      <th>1</th>\n",
       "      <td>55</td>\n",
       "      <td>50.013401</td>\n",
       "      <td>92</td>\n",
       "      <td>105.461264</td>\n",
       "      <td>30.466833</td>\n",
       "    </tr>\n",
       "    <tr>\n",
       "      <th>2</th>\n",
       "      <td>55</td>\n",
       "      <td>50.013401</td>\n",
       "      <td>92</td>\n",
       "      <td>105.461264</td>\n",
       "      <td>30.193597</td>\n",
       "    </tr>\n",
       "    <tr>\n",
       "      <th>3</th>\n",
       "      <td>70</td>\n",
       "      <td>45.696322</td>\n",
       "      <td>92</td>\n",
       "      <td>113.461264</td>\n",
       "      <td>30.632114</td>\n",
       "    </tr>\n",
       "    <tr>\n",
       "      <th>4</th>\n",
       "      <td>53</td>\n",
       "      <td>50.504232</td>\n",
       "      <td>92</td>\n",
       "      <td>104.461264</td>\n",
       "      <td>29.889149</td>\n",
       "    </tr>\n",
       "  </tbody>\n",
       "</table>\n",
       "</div>"
      ],
      "text/plain": [
       "   HP        MPG  VOL          SP         WT\n",
       "0  49  53.700681   89  104.185353  28.762059\n",
       "1  55  50.013401   92  105.461264  30.466833\n",
       "2  55  50.013401   92  105.461264  30.193597\n",
       "3  70  45.696322   92  113.461264  30.632114\n",
       "4  53  50.504232   92  104.461264  29.889149"
      ]
     },
     "execution_count": 4,
     "metadata": {},
     "output_type": "execute_result"
    }
   ],
   "source": [
    "cars.head()"
   ]
  },
  {
   "cell_type": "markdown",
   "id": "5f196331",
   "metadata": {},
   "source": [
    "### a.\tP(MPG>38), Using Cumulitive Distribution function"
   ]
  },
  {
   "cell_type": "code",
   "execution_count": 10,
   "id": "570c45e7",
   "metadata": {
    "ExecuteTime": {
     "end_time": "2022-01-24T04:52:23.035843Z",
     "start_time": "2022-01-24T04:52:12.485567Z"
    }
   },
   "outputs": [
    {
     "data": {
      "text/plain": [
       "0.3475939251582705"
      ]
     },
     "execution_count": 10,
     "metadata": {},
     "output_type": "execute_result"
    }
   ],
   "source": [
    "from scipy import stats\n",
    "1-stats.norm.cdf(38,cars.MPG.mean(),cars.MPG.std())"
   ]
  },
  {
   "cell_type": "markdown",
   "id": "0edff844",
   "metadata": {},
   "source": [
    "### b.\tP(MPG<40)"
   ]
  },
  {
   "cell_type": "code",
   "execution_count": 11,
   "id": "41c3000d",
   "metadata": {
    "ExecuteTime": {
     "end_time": "2022-01-24T04:53:18.987026Z",
     "start_time": "2022-01-24T04:53:18.976032Z"
    }
   },
   "outputs": [
    {
     "data": {
      "text/plain": [
       "0.7293498762151616"
      ]
     },
     "execution_count": 11,
     "metadata": {},
     "output_type": "execute_result"
    }
   ],
   "source": [
    "stats.norm.cdf(40,cars.MPG.mean(),cars.MPG.std())"
   ]
  },
  {
   "cell_type": "markdown",
   "id": "49813491",
   "metadata": {},
   "source": [
    "### P (20<MPG<50)"
   ]
  },
  {
   "cell_type": "markdown",
   "id": "f8d7225e",
   "metadata": {},
   "source": [
    "P(less than 50) - P(less than 20)"
   ]
  },
  {
   "cell_type": "code",
   "execution_count": 12,
   "id": "14f0964f",
   "metadata": {
    "ExecuteTime": {
     "end_time": "2022-01-24T04:54:27.713811Z",
     "start_time": "2022-01-24T04:54:27.602852Z"
    }
   },
   "outputs": [
    {
     "data": {
      "text/plain": [
       "0.8988689169682046"
      ]
     },
     "execution_count": 12,
     "metadata": {},
     "output_type": "execute_result"
    }
   ],
   "source": [
    "stats.norm.cdf(50,cars.MPG.mean(),cars.MPG.std())  - stats.norm.cdf(20,cars.MPG.mean(),cars.MPG.std())"
   ]
  },
  {
   "cell_type": "markdown",
   "id": "5c64b9e5",
   "metadata": {},
   "source": [
    "### Question 21"
   ]
  },
  {
   "cell_type": "code",
   "execution_count": 15,
   "id": "6e1a96eb",
   "metadata": {
    "ExecuteTime": {
     "end_time": "2022-01-24T04:58:48.184341Z",
     "start_time": "2022-01-24T04:58:47.907459Z"
    }
   },
   "outputs": [
    {
     "data": {
      "text/plain": [
       "<AxesSubplot:xlabel='MPG', ylabel='Density'>"
      ]
     },
     "execution_count": 15,
     "metadata": {},
     "output_type": "execute_result"
    },
    {
     "data": {
      "image/png": "[encoded data removed]",
      "text/plain": [
       "<Figure size 432x288 with 1 Axes>"
      ]
     },
     "metadata": {
      "needs_background": "light"
     },
     "output_type": "display_data"
    }
   ],
   "source": [
    "import seaborn as sns\n",
    "\n",
    "import warnings\n",
    "warnings.filterwarnings('ignore')\n",
    "\n",
    "sns.distplot(cars.MPG)"
   ]
  },
  {
   "cell_type": "code",
   "execution_count": 20,
   "id": "5d5f6bce",
   "metadata": {
    "ExecuteTime": {
     "end_time": "2022-01-24T12:20:29.544045Z",
     "start_time": "2022-01-24T12:20:29.440275Z"
    }
   },
   "outputs": [
    {
     "data": {
      "text/plain": [
       "(34.422075728024666,\n",
       " 0    29.629936\n",
       " dtype: float64,\n",
       " 35.15272697)"
      ]
     },
     "execution_count": 20,
     "metadata": {},
     "output_type": "execute_result"
    }
   ],
   "source": [
    "cars.MPG.mean(),cars.MPG.mode(),cars.MPG.median()"
   ]
  },
  {
   "cell_type": "code",
   "execution_count": 17,
   "id": "59bf6d98",
   "metadata": {
    "ExecuteTime": {
     "end_time": "2022-01-24T04:59:30.710248Z",
     "start_time": "2022-01-24T04:59:30.692260Z"
    }
   },
   "outputs": [
    {
     "data": {
      "text/plain": [
       "9.131444731795982"
      ]
     },
     "execution_count": 17,
     "metadata": {},
     "output_type": "execute_result"
    }
   ],
   "source": [
    "cars.MPG.std()"
   ]
  },
  {
   "cell_type": "code",
   "execution_count": 18,
   "id": "f057df9f",
   "metadata": {
    "ExecuteTime": {
     "end_time": "2022-01-24T12:16:24.475783Z",
     "start_time": "2022-01-24T12:16:23.343933Z"
    }
   },
   "outputs": [
    {
     "data": {
      "text/plain": [
       "-0.17794674747025727"
      ]
     },
     "execution_count": 18,
     "metadata": {},
     "output_type": "execute_result"
    }
   ],
   "source": [
    "cars.MPG.skew()"
   ]
  },
  {
   "cell_type": "code",
   "execution_count": 19,
   "id": "db800117",
   "metadata": {
    "ExecuteTime": {
     "end_time": "2022-01-24T12:16:48.105516Z",
     "start_time": "2022-01-24T12:16:48.037555Z"
    }
   },
   "outputs": [
    {
     "data": {
      "text/plain": [
       "-0.6116786559430913"
      ]
     },
     "execution_count": 19,
     "metadata": {},
     "output_type": "execute_result"
    }
   ],
   "source": [
    "cars.MPG.kurtosis()"
   ]
  },
  {
   "cell_type": "code",
   "execution_count": 21,
   "id": "8069df45",
   "metadata": {
    "ExecuteTime": {
     "end_time": "2022-01-24T12:24:48.249765Z",
     "start_time": "2022-01-24T12:24:47.978461Z"
    }
   },
   "outputs": [],
   "source": [
    "wcat = pd.read_csv('wc-at.csv')"
   ]
  },
  {
   "cell_type": "code",
   "execution_count": 22,
   "id": "8f6a97c2",
   "metadata": {
    "ExecuteTime": {
     "end_time": "2022-01-24T12:24:53.313306Z",
     "start_time": "2022-01-24T12:24:53.298316Z"
    }
   },
   "outputs": [
    {
     "data": {
      "text/html": [
       "<div>\n",
       "<style scoped>\n",
       "    .dataframe tbody tr th:only-of-type {\n",
       "        vertical-align: middle;\n",
       "    }\n",
       "\n",
       "    .dataframe tbody tr th {\n",
       "        vertical-align: top;\n",
       "    }\n",
       "\n",
       "    .dataframe thead th {\n",
       "        text-align: right;\n",
       "    }\n",
       "</style>\n",
       "<table border=\"1\" class=\"dataframe\">\n",
       "  <thead>\n",
       "    <tr style=\"text-align: right;\">\n",
       "      <th></th>\n",
       "      <th>Waist</th>\n",
       "      <th>AT</th>\n",
       "    </tr>\n",
       "  </thead>\n",
       "  <tbody>\n",
       "    <tr>\n",
       "      <th>0</th>\n",
       "      <td>74.75</td>\n",
       "      <td>25.72</td>\n",
       "    </tr>\n",
       "    <tr>\n",
       "      <th>1</th>\n",
       "      <td>72.60</td>\n",
       "      <td>25.89</td>\n",
       "    </tr>\n",
       "    <tr>\n",
       "      <th>2</th>\n",
       "      <td>81.80</td>\n",
       "      <td>42.60</td>\n",
       "    </tr>\n",
       "    <tr>\n",
       "      <th>3</th>\n",
       "      <td>83.95</td>\n",
       "      <td>42.80</td>\n",
       "    </tr>\n",
       "    <tr>\n",
       "      <th>4</th>\n",
       "      <td>74.65</td>\n",
       "      <td>29.84</td>\n",
       "    </tr>\n",
       "  </tbody>\n",
       "</table>\n",
       "</div>"
      ],
      "text/plain": [
       "   Waist     AT\n",
       "0  74.75  25.72\n",
       "1  72.60  25.89\n",
       "2  81.80  42.60\n",
       "3  83.95  42.80\n",
       "4  74.65  29.84"
      ]
     },
     "execution_count": 22,
     "metadata": {},
     "output_type": "execute_result"
    }
   ],
   "source": [
    "wcat.head()"
   ]
  },
  {
   "cell_type": "code",
   "execution_count": 23,
   "id": "c8e157a2",
   "metadata": {
    "ExecuteTime": {
     "end_time": "2022-01-24T12:25:24.415251Z",
     "start_time": "2022-01-24T12:25:23.951907Z"
    }
   },
   "outputs": [
    {
     "data": {
      "text/plain": [
       "<AxesSubplot:xlabel='Waist', ylabel='Density'>"
      ]
     },
     "execution_count": 23,
     "metadata": {},
     "output_type": "execute_result"
    },
    {
     "data": {
      "image/png": "[encoded data removed]",
      "text/plain": [
       "<Figure size 432x288 with 1 Axes>"
      ]
     },
     "metadata": {
      "needs_background": "light"
     },
     "output_type": "display_data"
    }
   ],
   "source": [
    "sns.distplot(wcat.Waist)"
   ]
  },
  {
   "cell_type": "code",
   "execution_count": 24,
   "id": "b198ff2e",
   "metadata": {
    "ExecuteTime": {
     "end_time": "2022-01-24T12:25:45.693596Z",
     "start_time": "2022-01-24T12:25:45.365811Z"
    }
   },
   "outputs": [
    {
     "data": {
      "text/plain": [
       "<AxesSubplot:xlabel='AT', ylabel='Density'>"
      ]
     },
     "execution_count": 24,
     "metadata": {},
     "output_type": "execute_result"
    },
    {
     "data": {
      "image/png": "[encoded data removed]",
      "text/plain": [
       "<Figure size 432x288 with 1 Axes>"
      ]
     },
     "metadata": {
      "needs_background": "light"
     },
     "output_type": "display_data"
    }
   ],
   "source": [
    "sns.distplot(wcat.AT)"
   ]
  },
  {
   "cell_type": "code",
   "execution_count": 26,
   "id": "93cc923d",
   "metadata": {
    "ExecuteTime": {
     "end_time": "2022-01-24T12:27:20.817996Z",
     "start_time": "2022-01-24T12:27:20.807999Z"
    }
   },
   "outputs": [
    {
     "data": {
      "text/plain": [
       "(101.89403669724771, 96.54)"
      ]
     },
     "execution_count": 26,
     "metadata": {},
     "output_type": "execute_result"
    }
   ],
   "source": [
    "wcat.AT.mean(),wcat.AT.median()#,wcat.AT.mode()"
   ]
  },
  {
   "cell_type": "code",
   "execution_count": 27,
   "id": "0f73d350",
   "metadata": {
    "ExecuteTime": {
     "end_time": "2022-01-24T12:27:31.782771Z",
     "start_time": "2022-01-24T12:27:31.772782Z"
    }
   },
   "outputs": [
    {
     "data": {
      "text/plain": [
       "0    121.0\n",
       "1    123.0\n",
       "dtype: float64"
      ]
     },
     "execution_count": 27,
     "metadata": {},
     "output_type": "execute_result"
    }
   ],
   "source": [
    "wcat.AT.mode()"
   ]
  },
  {
   "cell_type": "code",
   "execution_count": 28,
   "id": "6fae42f7",
   "metadata": {
    "ExecuteTime": {
     "end_time": "2022-01-24T12:28:04.704266Z",
     "start_time": "2022-01-24T12:28:04.691269Z"
    }
   },
   "outputs": [
    {
     "data": {
      "text/plain": [
       "0.584869324127853"
      ]
     },
     "execution_count": 28,
     "metadata": {},
     "output_type": "execute_result"
    }
   ],
   "source": [
    "wcat.AT.skew()"
   ]
  },
  {
   "cell_type": "code",
   "execution_count": 29,
   "id": "7d1e7c30",
   "metadata": {
    "ExecuteTime": {
     "end_time": "2022-01-24T12:28:16.839192Z",
     "start_time": "2022-01-24T12:28:16.814208Z"
    }
   },
   "outputs": [
    {
     "data": {
      "text/plain": [
       "-0.28557567504584425"
      ]
     },
     "execution_count": 29,
     "metadata": {},
     "output_type": "execute_result"
    }
   ],
   "source": [
    "wcat.AT.kurtosis()"
   ]
  },
  {
   "cell_type": "code",
   "execution_count": 30,
   "id": "955320ba",
   "metadata": {
    "ExecuteTime": {
     "end_time": "2022-01-24T12:33:16.488341Z",
     "start_time": "2022-01-24T12:33:16.472348Z"
    }
   },
   "outputs": [
    {
     "data": {
      "text/plain": [
       "0.1340560824786468"
      ]
     },
     "execution_count": 30,
     "metadata": {},
     "output_type": "execute_result"
    }
   ],
   "source": [
    "wcat.Waist.skew()"
   ]
  },
  {
   "cell_type": "code",
   "execution_count": 31,
   "id": "26de9ba3",
   "metadata": {
    "ExecuteTime": {
     "end_time": "2022-01-24T12:33:38.939083Z",
     "start_time": "2022-01-24T12:33:38.928092Z"
    }
   },
   "outputs": [
    {
     "data": {
      "text/plain": [
       "-1.1026666011768886"
      ]
     },
     "execution_count": 31,
     "metadata": {},
     "output_type": "execute_result"
    }
   ],
   "source": [
    "wcat.Waist.kurtosis()"
   ]
  },
  {
   "cell_type": "markdown",
   "id": "d5f24a57",
   "metadata": {},
   "source": [
    "## Q 21) Check whether the data follows normal distribution"
   ]
  },
  {
   "cell_type": "markdown",
   "id": "d825b6e9",
   "metadata": {},
   "source": [
    "## Using QQ plot"
   ]
  },
  {
   "cell_type": "code",
   "execution_count": 32,
   "id": "8b7d02ea",
   "metadata": {
    "ExecuteTime": {
     "end_time": "2022-01-24T13:00:30.846792Z",
     "start_time": "2022-01-24T13:00:08.273821Z"
    }
   },
   "outputs": [],
   "source": [
    "import statsmodels.api as sma"
   ]
  },
  {
   "cell_type": "code",
   "execution_count": 38,
   "id": "ed703922",
   "metadata": {
    "ExecuteTime": {
     "end_time": "2022-01-24T14:04:02.391765Z",
     "start_time": "2022-01-24T14:04:01.948452Z"
    }
   },
   "outputs": [
    {
     "data": {
      "image/png": "[encoded data removed]",
      "text/plain": [
       "<Figure size 432x288 with 1 Axes>"
      ]
     },
     "execution_count": 38,
     "metadata": {},
     "output_type": "execute_result"
    },
    {
     "data": {
      "image/png": "[encoded data removed]",
      "text/plain": [
       "<Figure size 432x288 with 1 Axes>"
      ]
     },
     "metadata": {
      "needs_background": "light"
     },
     "output_type": "display_data"
    }
   ],
   "source": [
    "sma.qqplot(cars.MPG,dist=stats.norm)"
   ]
  },
  {
   "cell_type": "code",
   "execution_count": 40,
   "id": "f025afa5",
   "metadata": {
    "ExecuteTime": {
     "end_time": "2022-01-24T14:10:38.336485Z",
     "start_time": "2022-01-24T14:10:37.891376Z"
    }
   },
   "outputs": [
    {
     "data": {
      "image/png": "[encoded data removed]",
      "text/plain": [
       "<Figure size 432x288 with 1 Axes>"
      ]
     },
     "execution_count": 40,
     "metadata": {},
     "output_type": "execute_result"
    },
    {
     "data": {
      "image/png": "[encoded data removed]",
      "text/plain": [
       "<Figure size 432x288 with 1 Axes>"
      ]
     },
     "metadata": {
      "needs_background": "light"
     },
     "output_type": "display_data"
    }
   ],
   "source": [
    "sma.qqplot(wcat.Waist)#,dist=stats.norm)"
   ]
  },
  {
   "cell_type": "markdown",
   "id": "9928e943",
   "metadata": {},
   "source": [
    "### Q 22) Calculate the Z scores of  90% confidence interval,94% confidence interval, 60% confidence interval "
   ]
  },
  {
   "cell_type": "code",
   "execution_count": 41,
   "id": "3663de6a",
   "metadata": {
    "ExecuteTime": {
     "end_time": "2022-01-24T14:14:59.809713Z",
     "start_time": "2022-01-24T14:14:59.725757Z"
    }
   },
   "outputs": [
    {
     "name": "stdout",
     "output_type": "stream",
     "text": [
      "z Score of 90%: 1.2815515655446004\n",
      "z Score of 94%: 1.5547735945968535\n",
      "z Score of 60%: 0.2533471031357997\n"
     ]
    }
   ],
   "source": [
    "print('z Score of 90%:',stats.norm.ppf(0.90))\n",
    "print('z Score of 94%:',stats.norm.ppf(0.94))\n",
    "print('z Score of 60%:',stats.norm.ppf(0.60))"
   ]
  },
  {
   "cell_type": "markdown",
   "id": "2554dd2f",
   "metadata": {},
   "source": [
    "###            Q 23) Calculate the t scores of 95% confidence interval, 96% confidence interval, 99% confidence interval for sample size of 25"
   ]
  },
  {
   "cell_type": "code",
   "execution_count": 51,
   "id": "28356e12",
   "metadata": {
    "ExecuteTime": {
     "end_time": "2022-01-24T14:41:08.375917Z",
     "start_time": "2022-01-24T14:41:08.359938Z"
    }
   },
   "outputs": [
    {
     "name": "stdout",
     "output_type": "stream",
     "text": [
      "t Score of 95%: -1.7108820799094282\n",
      "t Score of 96%: -1.8280511719596344\n",
      "t Score of 99%: -2.4921594731575762\n"
     ]
    }
   ],
   "source": [
    "print('t Score of 95%:',stats.t.ppf(0.05,25-1))\n",
    "\n",
    "print('t Score of 96%:',stats.t.ppf(0.04,25-1))\n",
    "\n",
    "print('t Score of 99%:',stats.t.ppf(0.01,25-1))"
   ]
  },
  {
   "cell_type": "markdown",
   "id": "a5855ac7",
   "metadata": {},
   "source": [
    "### Q 24)   A Government  company claims that an average light bulb lasts 270 days. A researcher randomly selects 18 bulbs for testing. The sampled bulbs last an average of 260 days, with a standard deviation of 90 days. If the CEO's claim were true, what is the probability that 18 randomly selected bulbs would have an average life of no more than 260 days"
   ]
  },
  {
   "cell_type": "code",
   "execution_count": 1,
   "id": "0c67c81f",
   "metadata": {
    "ExecuteTime": {
     "end_time": "2022-01-26T08:17:59.727755Z",
     "start_time": "2022-01-26T08:17:43.220475Z"
    }
   },
   "outputs": [],
   "source": [
    "from scipy import stats"
   ]
  },
  {
   "cell_type": "markdown",
   "id": "efa09d49",
   "metadata": {},
   "source": [
    "#### Null Hypothesis - Average Life of light bulb >= 260\n",
    "#### Alternate Hypothesis = Averageage Life of Light bulb <260"
   ]
  },
  {
   "cell_type": "markdown",
   "id": "726b2fa4",
   "metadata": {
    "ExecuteTime": {
     "end_time": "2022-01-25T13:56:07.898993Z",
     "start_time": "2022-01-25T13:56:00.802057Z"
    }
   },
   "source": [
    "To calculate T score\n",
    "T = (X – μ) / [ σ/√(n) ]."
   ]
  },
  {
   "cell_type": "code",
   "execution_count": 2,
   "id": "e826dde3",
   "metadata": {
    "ExecuteTime": {
     "end_time": "2022-01-26T08:18:02.375069Z",
     "start_time": "2022-01-26T08:18:02.366076Z"
    }
   },
   "outputs": [],
   "source": [
    "sample_mean = 260\n",
    "population_mean = 270\n",
    "Sample_std_deviation = 90\n",
    "Tscore = (260 -270)/(90/(18**0.5))"
   ]
  },
  {
   "cell_type": "code",
   "execution_count": 3,
   "id": "07557c69",
   "metadata": {
    "ExecuteTime": {
     "end_time": "2022-01-26T08:18:03.719238Z",
     "start_time": "2022-01-26T08:18:03.637285Z"
    }
   },
   "outputs": [
    {
     "data": {
      "text/plain": [
       "-0.4714045207910317"
      ]
     },
     "execution_count": 3,
     "metadata": {},
     "output_type": "execute_result"
    }
   ],
   "source": [
    "Tscore"
   ]
  },
  {
   "cell_type": "code",
   "execution_count": 4,
   "id": "4590278f",
   "metadata": {
    "ExecuteTime": {
     "end_time": "2022-01-26T08:18:04.882558Z",
     "start_time": "2022-01-26T08:18:04.687907Z"
    }
   },
   "outputs": [
    {
     "data": {
      "text/plain": [
       "0.32167253567098364"
      ]
     },
     "execution_count": 4,
     "metadata": {},
     "output_type": "execute_result"
    }
   ],
   "source": [
    "stats.t.cdf((Tscore),17)"
   ]
  },
  {
   "cell_type": "code",
   "execution_count": null,
   "id": "8066ea08",
   "metadata": {},
   "outputs": [],
   "source": []
  }
 ],
 "metadata": {
  "_draft": {
   "nbviewer_url": "https://gist.github.com/18fb9e044c9e78bba7cf2659d7521393"
  },
  "gist": {
   "data": {
    "description": "Basic_Stats_1.ipynb",
    "public": true
   },
   "id": "18fb9e044c9e78bba7cf2659d7521393"
  },
  "kernelspec": {
   "display_name": "Python 3 (ipykernel)",
   "language": "python",
   "name": "python3"
  },
  "language_info": {
   "codemirror_mode": {
    "name": "ipython",
    "version": 3
   },
   "file_extension": ".py",
   "mimetype": "text/x-python",
   "name": "python",
   "nbconvert_exporter": "python",
   "pygments_lexer": "ipython3",
   "version": "3.9.7"
  }
 },
 "nbformat": 4,
 "nbformat_minor": 5
}
